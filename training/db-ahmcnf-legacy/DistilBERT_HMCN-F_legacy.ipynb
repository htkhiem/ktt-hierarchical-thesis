{
 "cells": [
  {
   "cell_type": "markdown",
   "metadata": {
    "id": "Exg8x5X50pM7"
   },
   "source": [
    "# Notebook settings\n",
    "This notebook is a universal frame for training a legacy version DistilBERT+Adapted HMCN-F model. It can take in any Parquet dataset with suitable configuration.\n",
    "\n",
    "This legacy version used a different class indexing algorithm that was not capable of accounting for duplicates across levels. It is the one presented in the paper."
   ]
  },
  {
   "cell_type": "code",
   "execution_count": 1,
   "metadata": {
    "colab": {
     "base_uri": "https://localhost:8080/"
    },
    "executionInfo": {
     "elapsed": 37802,
     "status": "ok",
     "timestamp": 1635307768509,
     "user": {
      "displayName": "Khiêm Huỳnh Thiện",
      "photoUrl": "https://lh3.googleusercontent.com/a-/AOh14GiKsMYrfMtAzOaIk6G51GUQwDS0P6dMkGSwN9B_aA=s64",
      "userId": "01825679077701569078"
     },
     "user_tz": -420
    },
    "id": "kzuN96GF0XuA",
    "outputId": "3888bf24-8177-496a-a316-b26e35e1bf70"
   },
   "outputs": [],
   "source": [
    "### Dataset configuration\n",
    "# The parquet folder. It should be located inside datasets/.\n",
    "DATASET_NAME   = 'Walmart_30k.parquet'\n",
    "# The input text column\n",
    "TEXT_COL_NAME  = 'title'\n",
    "# Which column to use as labelled classes. It should be a column of lists of strings.\n",
    "CLASS_COL_NAME = 'category'\n",
    "# How many hierarchical levels to work on. Note that the dataset must also have at least this many levels for every example.\n",
    "DEPTH = 2 \n",
    "\n",
    "### Checkpoint configuration\n",
    "# Whether to train from scratch or to load a checkpoint\n",
    "TRAIN_FROM_SCRATCH=True\n",
    "# Checkpoint iteration to load if not training from scratch\n",
    "LOAD_ITERATION=0\n",
    "# Last or best results from that iteration?\n",
    "LOAD_BEST=True\n",
    "\n",
    "### System configuration\n",
    "# Will try to use your NVIDIA GPU if one is available. Set to False to force CPU computation\n",
    "PREFER_GPU         = True\n",
    "# If you don't have the huggingface transformers library installed, flip this to True.\n",
    "# You only need to do this once. Once DistilBERT has been downloaded, it will be cached in your system's default user cache folder.\n",
    "# Once it is cached, please set this to False to avoid redownloads.\n",
    "INSTALL_DISTILBERT = False"
   ]
  },
  {
   "cell_type": "markdown",
   "metadata": {
    "id": "9r_iHMmx75DM"
   },
   "source": [
    "# Import common libraries\n",
    "And also set up a few things."
   ]
  },
  {
   "cell_type": "code",
   "execution_count": 2,
   "metadata": {
    "executionInfo": {
     "elapsed": 24666,
     "status": "ok",
     "timestamp": 1635307793160,
     "user": {
      "displayName": "Khiêm Huỳnh Thiện",
      "photoUrl": "https://lh3.googleusercontent.com/a-/AOh14GiKsMYrfMtAzOaIk6G51GUQwDS0P6dMkGSwN9B_aA=s64",
      "userId": "01825679077701569078"
     },
     "user_tz": -420
    },
    "id": "shaFdRkD74o1"
   },
   "outputs": [
    {
     "name": "stdout",
     "output_type": "stream",
     "text": [
      "Using cuda\n"
     ]
    }
   ],
   "source": [
    "import pandas as pd\n",
    "import numpy as np\n",
    "import torch\n",
    "from tqdm.notebook import tqdm\n",
    "import numpy as np\n",
    "import shutil, sys\n",
    "from sklearn import metrics\n",
    "import os\n",
    "\n",
    "# Set up GPU if available\n",
    "device = 'cuda' if torch.cuda.is_available() and PREFER_GPU else 'cpu'\n",
    "print('Using', device)"
   ]
  },
  {
   "cell_type": "markdown",
   "metadata": {
    "id": "WTb90c5tRJsf"
   },
   "source": [
    "# Import data"
   ]
  },
  {
   "cell_type": "code",
   "execution_count": 3,
   "metadata": {
    "colab": {
     "base_uri": "https://localhost:8080/"
    },
    "executionInfo": {
     "elapsed": 13707,
     "status": "ok",
     "timestamp": 1635307806856,
     "user": {
      "displayName": "Khiêm Huỳnh Thiện",
      "photoUrl": "https://lh3.googleusercontent.com/a-/AOh14GiKsMYrfMtAzOaIk6G51GUQwDS0P6dMkGSwN9B_aA=s64",
      "userId": "01825679077701569078"
     },
     "user_tz": -420
    },
    "id": "O8e3fhFSRPPw",
    "outputId": "f62876fc-11c1-4a35-8534-aa4e27db8d07"
   },
   "outputs": [
    {
     "name": "stdout",
     "output_type": "stream",
     "text": [
      "title                                                        La Costena Chipotle Peppers, 7 OZ (Pack of 12)\n",
      "description    La Costena Chipotle Peppers, 7 OZ (Pack of 12) Easy open. Ready to serve! Product of Mexico.\n",
      "List Price                                                                                            31.93\n",
      "Sale Price                                                                                            31.93\n",
      "Brand                                                                                       La Costeï¿½ï¿½a\n",
      "category                            [Food, Meal Solutions, Grains & Pasta, Canned Goods, Canned Vegetables]\n",
      "Name: 0, dtype: object\n"
     ]
    }
   ],
   "source": [
    "data = pd.read_parquet('../../datasets/{}'.format(DATASET_NAME))\n",
    "with pd.option_context('display.max_colwidth', None):\n",
    "    print (data.iloc[0])"
   ]
  },
  {
   "cell_type": "markdown",
   "metadata": {
    "id": "96eLOv0hMvCv"
   },
   "source": [
    "# Categorical-encode the classes\n",
    "Our implementation of HMCN-F uses ordered global-space indices. That is, in the numerical order will be all classes on the first level, THEN those on the second and so on, with each level's first index starting after the previous level's last index.\n",
    "\n",
    "The first step to achieving this would be to separate each level into their own column. Then, for categorical encoding to work, the columns themselves must be in Dask's `category` datatype, instead of the default `object` type for non-numerical columns."
   ]
  },
  {
   "cell_type": "code",
   "execution_count": 4,
   "metadata": {
    "colab": {
     "base_uri": "https://localhost:8080/"
    },
    "executionInfo": {
     "elapsed": 850,
     "status": "ok",
     "timestamp": 1635307918852,
     "user": {
      "displayName": "Khiêm Huỳnh Thiện",
      "photoUrl": "https://lh3.googleusercontent.com/a-/AOh14GiKsMYrfMtAzOaIk6G51GUQwDS0P6dMkGSwN9B_aA=s64",
      "userId": "01825679077701569078"
     },
     "user_tz": -420
    },
    "id": "j8YYWA6NNUr4",
    "outputId": "44e296f1-93a6-448a-ea78-b124b62b3d2e"
   },
   "outputs": [
    {
     "name": "stdout",
     "output_type": "stream",
     "text": [
      "Level 0: Index(['Arts Crafts & Sewing', 'Auto & Tires', 'Baby', 'Beauty', 'Books',\n",
      "       'Cell Phones', 'Character Shop', 'Clothing', 'Collectibles',\n",
      "       'Electronics', 'Feature', 'Food', 'Health', 'Home', 'Home Improvement',\n",
      "       'Household Essentials', 'Industrial & Scientific', 'Jewelry', 'Music',\n",
      "       'Musical Instruments', 'Office Supplies', 'Party & Occasions',\n",
      "       'Patio & Garden', 'Personal Care', 'Pets', 'Premium Beauty', 'Seasonal',\n",
      "       'Sports & Outdoors', 'Toys', 'Video Games', 'Walmart for Business'],\n",
      "      dtype='object')\n",
      "Level 1: Index(['2-in-1 Hair and Body Care', '@ Manual Shelves - Beauty',\n",
      "       '@ Manual Shelves - Food', 'ATV & Off-Road', 'Acid Reflux',\n",
      "       'Action Figures', 'Advance Auto Parts Shop', 'Air Fresheners',\n",
      "       'All Industrial', 'Allergy and Sinus',\n",
      "       ...\n",
      "       'Watches', 'Water Purification', 'Wedding Shop', 'Weight Management',\n",
      "       'Wellness', 'Wilton Baking Supplies', 'Womens Clothing',\n",
      "       'Womens Jewelry & Watches', 'Womens Plus', 'iPad & Tablets'],\n",
      "      dtype='object', length=293)\n",
      "Global categories: Index(['Arts Crafts & Sewing', 'Auto & Tires', 'Baby', 'Beauty', 'Books',\n",
      "       'Cell Phones', 'Character Shop', 'Clothing', 'Collectibles',\n",
      "       'Electronics',\n",
      "       ...\n",
      "       'Watches', 'Water Purification', 'Wedding Shop', 'Weight Management',\n",
      "       'Wellness', 'Wilton Baking Supplies', 'Womens Clothing',\n",
      "       'Womens Jewelry & Watches', 'Womens Plus', 'iPad & Tablets'],\n",
      "      dtype='object', length=322)\n",
      "Global category codes: {'Arts Crafts & Sewing': 0, 'Auto & Tires': 1, 'Baby': 2, 'Beauty': 3, 'Books': 4, 'Cell Phones': 5, 'Character Shop': 6, 'Clothing': 7, 'Collectibles': 8, 'Electronics': 9, 'Feature': 10, 'Food': 11, 'Health': 12, 'Home': 13, 'Home Improvement': 14, 'Household Essentials': 15, 'Industrial & Scientific': 16, 'Jewelry': 17, 'Music': 18, 'Musical Instruments': 19, 'Office Supplies': 20, 'Party & Occasions': 21, 'Patio & Garden': 22, 'Personal Care': 23, 'Pets': 24, 'Premium Beauty': 25, 'Seasonal': 26, 'Sports & Outdoors': 27, 'Toys': 28, 'Video Games': 29, 'Walmart for Business': 30, '2-in-1 Hair and Body Care': 31, '@ Manual Shelves - Beauty': 32, '@ Manual Shelves - Food': 33, 'ATV & Off-Road': 34, 'Acid Reflux': 35, 'Action Figures': 36, 'Advance Auto Parts Shop': 37, 'Air Fresheners': 38, 'All Industrial': 39, 'Allergy and Sinus': 40, 'Appliances': 41, 'Aromatherapy': 42, 'Art Supplies': 43, 'Arts & Crafts for Kids': 44, 'As Seen On TV': 45, 'Audio': 46, 'Auto Body': 47, 'Auto Detailing & Car Care': 48, 'Auto Detailing Paint and Paint Tools': 49, 'Auto Electronics': 50, 'Automotive Interior': 51, 'Automotive Replacement Parts': 52, 'Automotive Tools & Equipment': 53, 'Baby & Toddler Toys': 54, 'Baby Activities & Gear': 55, 'Baby Shower Gifts': 56, 'Back to College Beauty': 57, 'Back to School': 58, 'Back to School Health Essentials': 59, 'Bags & Accessories': 60, 'Baking': 61, 'Basketball Party Supplies': 62, 'Bath': 63, 'Bath & Body': 64, 'Bathroom': 65, 'Bathroom Renovation': 66, 'Batteries': 67, 'Beading & Jewelry Making': 68, 'Beauty Next Day': 69, 'Beauty Stock Up': 70, 'Beauty Wellness': 71, 'Beauty by Top Brands': 72, 'Beauty by Topic': 73, 'Bedding': 74, 'Bedroom Safety & Aids': 75, 'Beverages': 76, 'Big & Tall': 77, 'Bikes': 78, 'Body Jewelry': 79, 'Breakfast & Cereal': 80, 'Breakroom Supplies': 81, 'Business & Money Books': 82, 'Cake, Baking & Pastry Supplies': 83, 'Cameras & Camcorders': 84, 'Car Safety & Car Security': 85, 'Car Seats': 86, 'Caregiver': 87, 'Cats': 88, 'Cellphone Accessories': 89, 'Childrens & Kids Books': 90, 'Childrens Health': 91, 'Childrens Health Shop': 92, 'Chocolate, Candy & Gum': 93, 'Christmas Trees & Christmas Decor': 94, 'Clean Living Bath & Body': 95, 'Clean Living Shop': 96, 'Cleaning Supplies': 97, 'Clearance on Health Beauty Wellness & Personal Care': 98, 'Coffee': 99, 'Cold Cough and Flu': 100, 'Computers': 101, 'Condiments, Sauces & Spices': 102, 'Cookbooks, Food & Wine': 103, 'DC Comics Characters': 104, 'Decor': 105, 'Deodorants & Antiperspirants': 106, 'Dermatologist Recommended': 107, 'Desk & Workspace Organizers': 108, 'Diabetes Care': 109, 'Diabetes Care Brands': 110, 'Diabetes Management': 111, 'Diabetes Shop': 112, 'Diapering': 113, 'Digestive Health': 114, 'Disney Characters': 115, 'Disney Toys': 116, 'Dog Bark Control': 117, 'Dogs': 118, 'Dolls & Dollhouses': 119, 'Drain & Septic Care': 120, 'Ear Care': 121, 'Electrical': 122, 'Electronics for Kids': 123, 'Emergency Prep': 124, 'Equate': 125, 'Exercise & Fitness': 126, 'Exterior Car Accessories': 127, 'Eye Care': 128, 'Family Planning': 129, 'Farm Animals': 130, 'Fashion Brands': 131, 'Fasteners': 132, 'Featured Shops': 133, 'Feeding': 134, 'Feminine Care': 135, 'Fiber Supplements': 136, 'First Aid': 137, 'Food Service Equipment & Supplies': 138, 'Foot Care': 139, 'Fragrance Best Sellers': 140, 'Fragrances': 141, 'Fresh Cut Flowers': 142, 'Fresh Food': 143, 'Frozen Foods': 144, 'Furniture': 145, 'GPS & Navigation': 146, 'Games & Puzzles': 147, 'Garden Center': 148, 'Gas Relief': 149, 'Gift Baskets': 150, 'Gift Wrap Supplies': 151, 'Gluten-Free Foods': 152, 'Grills & Outdoor Cooking': 153, 'HART Tools': 154, 'Hair Care': 155, 'Halloween': 156, 'Halloween Makeup and Hair': 157, 'Hardware': 158, 'Headaches': 159, 'Health & Safety': 160, 'Heart Health': 161, 'Heating, Cooling, & Air Quality': 162, 'Here for Every Beauty': 163, 'History Books': 164, 'Hobby & Collectibles': 165, 'Holiday Decor': 166, 'Home Health Care': 167, 'Home Safety': 168, 'Horses': 169, 'Hot Tubs & Saunas': 170, 'House, Home & Gardening Books': 171, 'Household Essentials by Brand': 172, 'Incontinence': 173, 'Instrument Accessories': 174, 'Iridescent Party Supplies': 175, 'Janitorial & Sanitation Supplies': 176, 'Jojo Siwa Party Supplies': 177, 'Juniors': 178, 'Keto Diet': 179, 'Kids Bikes & Riding Toys': 180, 'Kids Clothing': 181, 'Kids Jewelry & Watches': 182, 'Kids Rooms': 183, 'Kitchen & Dining': 184, 'Kosher Foods': 185, 'Language Arts & Disciplines Books': 186, 'Last Minute Gifts': 187, 'Laundry': 188, 'Laxatives': 189, 'Learning Toys': 190, 'Light Bulbs': 191, 'Lip Care': 192, 'Literature & Fiction Books': 193, 'Makeup': 194, 'Mardi Gras Party Supplies': 195, 'Massage': 196, 'Maternity Clothing': 197, 'Meal Solutions, Grains & Pasta': 198, 'Medical & Dental': 199, 'Medicine Cabinet': 200, 'Medicine Cabinet Must Haves': 201, 'Men': 202, 'Mens Clothing': 203, 'Mens Essentials': 204, 'Mens Personal Care': 205, 'Mothers Day': 206, 'Motion Sickness & Nausea': 207, 'Motorcycle': 208, 'New Arrivals': 209, 'New Year New You': 210, 'Nexxus': 211, 'Nickelodeon Characters': 212, 'Nursery & Decor': 213, 'Oils and Fluids': 214, 'Oral Care': 215, 'Organic Foods': 216, 'Outdoor Lighting': 217, 'Outdoor Play': 218, 'Outdoor Power Equipment': 219, 'Outdoor Sports': 220, 'Pain Relievers': 221, 'Paint': 222, 'Paper': 223, 'Paper & Plastic': 224, 'Party Supplies': 225, 'Patio & Outdoor Decor': 226, 'Patio Furniture': 227, 'Personalized Gifts': 228, 'Pest Control': 229, 'Pet Stain & Odor Remover': 230, 'Plant Based Nutrition': 231, 'Portable Audio': 232, 'Premium Bath & Body': 233, 'Premium Beauty Tech & Skin Devices': 234, 'Premium Brands': 235, 'Premium Facial Skincare': 236, 'Premium Fragrance': 237, 'Premium Hair Care': 238, 'Premium Hair Care & Hair Tools': 239, 'Premium Hair Tools & Accessories': 240, 'Premium Makeup': 241, 'Premium Mens Grooming': 242, 'Pretend Play': 243, 'Probiotics': 244, 'Protein & Fitness': 245, 'Psychology & Social Science Books': 246, 'Quit Smoking': 247, 'RV Parts & Accessories': 248, 'Recreation': 249, 'Remote Control & Play Vehicles': 250, 'Reptiles': 251, 'Restock & Save On Hair Care': 252, 'Restock Beauty Essentials': 253, 'Restock Health Essentials': 254, 'Restock Wellness Essentials': 255, 'Restock on Baby Essentials': 256, 'Retro and Arcade Gaming Consoles, Accessories & Games': 257, 'Safety Equipment and Gear': 258, 'Scrapbooking': 259, 'Seasonal Clothing Shops': 260, 'Seasonal Grocery': 261, 'Self-Care & Pampering': 262, 'Sewing': 263, 'Sexual Wellness': 264, 'Sexual Wellness Top Brands': 265, 'Shaving': 266, 'Shoe Care & Repair': 267, 'Shoes': 268, 'Shop Musical Instruments By Brand': 269, 'Shop Toys by Age': 270, 'Shop Toys by Brand': 271, 'Shop Toys by Price': 272, 'Shop all Collectibles': 273, 'Shop by Skin Concern and Type': 274, 'Skin Care': 275, 'Sleep & Snoring Aids': 276, 'Sleepwear Shop': 277, 'Smart Home': 278, 'Snacks, Cookies & Chips': 279, 'Soups': 280, 'Sports': 281, 'Sports Fan Shop': 282, 'Sports Medicine & Injury Recovery Solution': 283, 'Sports Party Supplies': 284, 'Storage & Organization': 285, 'Strollers': 286, 'Stuffed Animals & Plush Toys': 287, 'Sun Care': 288, 'Super Bowl LII Starts Here': 289, 'Superfoods & Cleanses': 290, 'Surveillance Equipment': 291, 'Swim Shop': 292, 'TV & Video': 293, 'Teens Rooms': 294, 'The 80s Shop': 295, 'Tires': 296, 'Toddlers Room': 297, 'Tools': 298, 'Toys Character Shop': 299, 'Travel Size Beauty': 300, 'Travel Size Toiletries & Kits': 301, 'Trending Sellers': 302, 'Unicorn Shop': 303, 'Uniquely J': 304, 'Valentines Day Party Supplies': 305, 'Video Game Titles': 306, 'Vinyl Records': 307, 'Vitamins & Supplements': 308, 'WOW Items': 309, 'Walmart Exclusive Toys': 310, 'Watch Accessories': 311, 'Watches': 312, 'Water Purification': 313, 'Wedding Shop': 314, 'Weight Management': 315, 'Wellness': 316, 'Wilton Baking Supplies': 317, 'Womens Clothing': 318, 'Womens Jewelry & Watches': 319, 'Womens Plus': 320, 'iPad & Tablets': 321}\n"
     ]
    },
    {
     "data": {
      "image/png": "[encoded data removed]",
      "text/plain": [
       "<Figure size 432x288 with 1 Axes>"
      ]
     },
     "metadata": {
      "needs_background": "light"
     },
     "output_type": "display_data"
    }
   ],
   "source": [
    "from pandas.api.types import union_categoricals\n",
    "DEPTH = 2 # From 1.\n",
    "\n",
    "def split_class_levels(data, class_col_name, depth=2):\n",
    "  for i in range(depth): \n",
    "    data['cls_l{}'.format(i)] = data[class_col_name].apply(\n",
    "      lambda lst: lst[min(i, len(lst) - 1)]).astype('category')\n",
    "\n",
    "split_class_levels(data, CLASS_COL_NAME, DEPTH)\n",
    "\n",
    "# Keep class counts per level\n",
    "level_class_count = [*map(lambda col_name: data[col_name].cat.codes.nunique(), \n",
    "      [*map(lambda i: 'cls_l{}'.format(i), range(DEPTH))]\n",
    "      )\n",
    "]\n",
    "\n",
    "for i in range(DEPTH):\n",
    "  print('Level {}: {}'.format(i, data['cls_l{}'.format(i)].cat.categories))\n",
    "  # In preparation of imbalance correction: liist out category populations\n",
    "  data['cls_l{}'.format(i)].cat.codes.hist()\n",
    "\n",
    "# Generate a global categorical encoding by stacking the levels\n",
    "# This ensures that categories from different levels are not mixed together order-wise.\n",
    "global_categorical = union_categoricals(\n",
    "    [*map(\n",
    "        lambda col_name: data[col_name], \n",
    "        [*map(lambda i: 'cls_l{}'.format(i), range(DEPTH))]\n",
    "        )])\n",
    "\n",
    "idx2cls = global_categorical.categories\n",
    "print('Global categories:', idx2cls)\n",
    "\n",
    "# Now build a string-to-index mapping of those categories so we can more easily do one-hots\n",
    "# and construct the hierarchy later.\n",
    "cls2idx = dict([(category, index) for (index, category) in enumerate(global_categorical.categories)])\n",
    "print('Global category codes:', cls2idx)\n"
   ]
  },
  {
   "cell_type": "code",
   "execution_count": 5,
   "metadata": {
    "colab": {
     "base_uri": "https://localhost:8080/"
    },
    "executionInfo": {
     "elapsed": 339,
     "status": "ok",
     "timestamp": 1635307948128,
     "user": {
      "displayName": "Khiêm Huỳnh Thiện",
      "photoUrl": "https://lh3.googleusercontent.com/a-/AOh14GiKsMYrfMtAzOaIk6G51GUQwDS0P6dMkGSwN9B_aA=s64",
      "userId": "01825679077701569078"
     },
     "user_tz": -420
    },
    "id": "AasvSxmA0HIu",
    "outputId": "003f50f4-43fa-4b55-d513-c8913ffebd24"
   },
   "outputs": [
    {
     "name": "stdout",
     "output_type": "stream",
     "text": [
      "Level 0: 31\n",
      "Level 1: 293\n"
     ]
    }
   ],
   "source": [
    "for i in range(DEPTH):\n",
    "  print('Level {}: {}'.format(i, len(data['cls_l{}'.format(i)].cat.categories)))\n",
    "\n",
    "def common(a,b): \n",
    "    c = [value for value in a if value in b] \n",
    "    return c\n",
    "common_classes = common(data['cls_l0'].cat.categories, data['cls_l1'].cat.categories)"
   ]
  },
  {
   "cell_type": "markdown",
   "metadata": {
    "id": "XMYK-8pR0v6L"
   },
   "source": [
    "At this version we cannot distinguish between classes of the same name but at different levels. As such, we'll simply drop duplicates-in-name from the later levels."
   ]
  },
  {
   "cell_type": "code",
   "execution_count": 6,
   "metadata": {
    "executionInfo": {
     "elapsed": 312,
     "status": "ok",
     "timestamp": 1635307956769,
     "user": {
      "displayName": "Khiêm Huỳnh Thiện",
      "photoUrl": "https://lh3.googleusercontent.com/a-/AOh14GiKsMYrfMtAzOaIk6G51GUQwDS0P6dMkGSwN9B_aA=s64",
      "userId": "01825679077701569078"
     },
     "user_tz": -420
    },
    "id": "zJ8mFJ2R1EpD"
   },
   "outputs": [],
   "source": [
    "level_class_count[1] -= len(common_classes)"
   ]
  },
  {
   "cell_type": "markdown",
   "metadata": {
    "id": "n4sXPxkKzUK2"
   },
   "source": [
    "Now we can generate our custom-ordered, global binary encoding.\n",
    "\n",
    "$|Y_L^h|$ can easily be sliced from the global encoding by relying on the backed-up per-level class counts."
   ]
  },
  {
   "cell_type": "code",
   "execution_count": 7,
   "metadata": {
    "colab": {
     "base_uri": "https://localhost:8080/"
    },
    "executionInfo": {
     "elapsed": 4705,
     "status": "ok",
     "timestamp": 1635307994979,
     "user": {
      "displayName": "Khiêm Huỳnh Thiện",
      "photoUrl": "https://lh3.googleusercontent.com/a-/AOh14GiKsMYrfMtAzOaIk6G51GUQwDS0P6dMkGSwN9B_aA=s64",
      "userId": "01825679077701569078"
     },
     "user_tz": -420
    },
    "id": "S4K8ScuazR4l",
    "outputId": "d132c6c8-20ad-4312-ca1a-3a5dac1a395f"
   },
   "outputs": [
    {
     "data": {
      "text/plain": [
       "0    [False, False, False, False, False, False, Fal...\n",
       "1    [False, False, False, False, False, False, Fal...\n",
       "2    [False, False, False, False, False, False, Fal...\n",
       "3    [False, False, False, False, False, False, Fal...\n",
       "4    [False, False, True, False, False, False, Fals...\n",
       "5    [False, False, False, False, False, False, Fal...\n",
       "6    [False, False, False, False, False, False, Fal...\n",
       "7    [False, False, False, False, False, False, Fal...\n",
       "8    [False, False, False, False, False, False, Fal...\n",
       "9    [False, False, False, False, False, False, Fal...\n",
       "Name: class_global, dtype: object"
      ]
     },
     "execution_count": 7,
     "metadata": {},
     "output_type": "execute_result"
    }
   ],
   "source": [
    "def generate_global_class_binary_encodings(data, class_col_name, cat_dict, depth):\n",
    "  output_sz = len(cat_dict)\n",
    "  def runner(cat_lst):\n",
    "    result = np.zeros(output_sz, dtype=bool)\n",
    "    result[[*map(lambda name: cat_dict[name], cat_lst[:min(len(cat_lst), depth)])]] = True\n",
    "    #result[cat_dict[cat_lst[min(len(cat_lst) - 1, depth - 1)]]] = True\n",
    "    return result\n",
    "  data['class_global'] = data[class_col_name].apply(runner)\n",
    "\n",
    "generate_global_class_binary_encodings(data, CLASS_COL_NAME, cls2idx, DEPTH)\n",
    "data['class_global'][0:10]"
   ]
  },
  {
   "cell_type": "markdown",
   "metadata": {
    "id": "iyrIcY8O3Pjl"
   },
   "source": [
    "We can try recovering category names from this encoding to see if it is still in the original hierarchical order."
   ]
  },
  {
   "cell_type": "code",
   "execution_count": 8,
   "metadata": {
    "colab": {
     "base_uri": "https://localhost:8080/"
    },
    "executionInfo": {
     "elapsed": 322,
     "status": "ok",
     "timestamp": 1635308025470,
     "user": {
      "displayName": "Khiêm Huỳnh Thiện",
      "photoUrl": "https://lh3.googleusercontent.com/a-/AOh14GiKsMYrfMtAzOaIk6G51GUQwDS0P6dMkGSwN9B_aA=s64",
      "userId": "01825679077701569078"
     },
     "user_tz": -420
    },
    "id": "_-Pvksp33XHj",
    "outputId": "b6f190b6-d420-4ba1-9688-9e1e2d4e1dc9"
   },
   "outputs": [
    {
     "name": "stdout",
     "output_type": "stream",
     "text": [
      "Original: ['Sports & Outdoors' 'Bikes']\n",
      "Nonzero indices: (array([27, 78]),)\n",
      "Retrieved: ['Sports & Outdoors', 'Bikes']\n"
     ]
    }
   ],
   "source": [
    "def retrieve_classes(encoded, ordered_class_names, verbose=False):\n",
    "  nonzero_indices = np.nonzero(encoded)\n",
    "  if verbose:\n",
    "    print('Nonzero indices:', nonzero_indices)\n",
    "  return list(ordered_class_names[nonzero_indices])\n",
    "\n",
    "print('Original:', data.iloc[3]['category'][0:DEPTH])\n",
    "print('Retrieved:', retrieve_classes(data.iloc[3]['class_global'], global_categorical.categories, verbose=True))"
   ]
  },
  {
   "cell_type": "markdown",
   "metadata": {
    "id": "Smg58QeJ6jK-"
   },
   "source": [
    "# Hierarchy generation\n",
    "In this model, the hierarchical error penalty is simply $L_H = \\lambda \\times max(Y_{child} - Y_{parent})$. As such, we need to keep track of each node's parent and vectorise the calculation.\n",
    "\n",
    "For now I'll be implementing this as simple arrays of class codes (in the global categorical space). We can then use these arrays of codes as vectorised indices to pull out $Y_{parent}$s and have our loss function somewhat vectorised too."
   ]
  },
  {
   "cell_type": "code",
   "execution_count": 9,
   "metadata": {
    "executionInfo": {
     "elapsed": 1004,
     "status": "ok",
     "timestamp": 1635308148041,
     "user": {
      "displayName": "Khiêm Huỳnh Thiện",
      "photoUrl": "https://lh3.googleusercontent.com/a-/AOh14GiKsMYrfMtAzOaIk6G51GUQwDS0P6dMkGSwN9B_aA=s64",
      "userId": "01825679077701569078"
     },
     "user_tz": -420
    },
    "id": "nDMbz01-BORD"
   },
   "outputs": [],
   "source": [
    "# TODO: Bring the above code into this thing's constructor entirely.\n",
    "from functools import reduce\n",
    "class PerLevelHierarchy:\n",
    "  # level_sizes is a list of (distinct) class counts per hierarchical level.\n",
    "  #   Its length dictates the maximum hierarchy construction depth.\n",
    "  #   (that is, our above code)\n",
    "  # classes is the list of distinct classes, in the order we have assembled.\n",
    "  def __init__(self, data, level_sizes, classes, class_name2idx):\n",
    "    self.levels = level_sizes\n",
    "    # Where each level starts in a global n-hot category vector\n",
    "    # Its last element is coincidentally the length, which also allows us\n",
    "    # to simplify the slicing code by blindly doing [offset[i] : offset[i+1]]\n",
    "    self.level_offsets = reduce(lambda acc, elem: acc + [acc[len(acc) - 1] + elem], level_sizes, [0])\n",
    "    self.classes = classes\n",
    "    # Use -1 to indicate 'undiscovered'\n",
    "    self.parent_of = [-1] * len(self.classes)\n",
    "    for lst in data['category']:\n",
    "      # First-level categories' parent is root, but here we set them to themselves.\n",
    "      # This effectively zeroes out the hierarchical loss for this level.\n",
    "      self.parent_of[class_name2idx[lst[0]]] = class_name2idx[lst[0]]\n",
    "      for i in range(1, len(self.levels)):\n",
    "        child_idx = class_name2idx[lst[i]]\n",
    "        parent_idx = class_name2idx[lst[i - 1]]\n",
    "        if self.parent_of[child_idx] == -1:\n",
    "          self.parent_of[child_idx] = parent_idx"
   ]
  },
  {
   "cell_type": "code",
   "execution_count": 10,
   "metadata": {
    "colab": {
     "base_uri": "https://localhost:8080/"
    },
    "executionInfo": {
     "elapsed": 23,
     "status": "ok",
     "timestamp": 1635308149130,
     "user": {
      "displayName": "Khiêm Huỳnh Thiện",
      "photoUrl": "https://lh3.googleusercontent.com/a-/AOh14GiKsMYrfMtAzOaIk6G51GUQwDS0P6dMkGSwN9B_aA=s64",
      "userId": "01825679077701569078"
     },
     "user_tz": -420
    },
    "id": "zSI6Ket7Gj8v",
    "outputId": "58a86d5f-6ac5-40e8-dc63-024ebb6f64a0"
   },
   "outputs": [
    {
     "data": {
      "text/plain": [
       "[0,\n",
       " 1,\n",
       " 2,\n",
       " 3,\n",
       " 4,\n",
       " 5,\n",
       " 6,\n",
       " 7,\n",
       " 8,\n",
       " 9,\n",
       " 10,\n",
       " 11,\n",
       " 12,\n",
       " 13,\n",
       " 14,\n",
       " 15,\n",
       " 16,\n",
       " 17,\n",
       " 18,\n",
       " 19,\n",
       " 20,\n",
       " 21,\n",
       " 22,\n",
       " 23,\n",
       " 24,\n",
       " 25,\n",
       " 26,\n",
       " 27,\n",
       " 28,\n",
       " 29,\n",
       " 30,\n",
       " 23,\n",
       " 3,\n",
       " 11,\n",
       " 1,\n",
       " 12,\n",
       " 28,\n",
       " 1,\n",
       " 15,\n",
       " 16,\n",
       " 12,\n",
       " 13,\n",
       " 12,\n",
       " 0,\n",
       " 28,\n",
       " 15,\n",
       " 9,\n",
       " 1,\n",
       " 1,\n",
       " 1,\n",
       " 1,\n",
       " 1,\n",
       " 1,\n",
       " 1,\n",
       " 2,\n",
       " 2,\n",
       " 2,\n",
       " 3,\n",
       " 26,\n",
       " 12,\n",
       " 7,\n",
       " 11,\n",
       " 21,\n",
       " 13,\n",
       " 23,\n",
       " 15,\n",
       " 14,\n",
       " 15,\n",
       " 0,\n",
       " 3,\n",
       " 3,\n",
       " 3,\n",
       " 3,\n",
       " 3,\n",
       " 13,\n",
       " 12,\n",
       " 11,\n",
       " 7,\n",
       " 27,\n",
       " 17,\n",
       " 11,\n",
       " 30,\n",
       " 4,\n",
       " 21,\n",
       " 9,\n",
       " 1,\n",
       " 2,\n",
       " 12,\n",
       " 24,\n",
       " 5,\n",
       " 4,\n",
       " 12,\n",
       " 12,\n",
       " 11,\n",
       " 21,\n",
       " 23,\n",
       " 26,\n",
       " 15,\n",
       " 3,\n",
       " 11]"
      ]
     },
     "execution_count": 10,
     "metadata": {},
     "output_type": "execute_result"
    }
   ],
   "source": [
    "hierarchy = PerLevelHierarchy(data, level_class_count, global_categorical.categories, cls2idx)\n",
    "hierarchy.parent_of[0:100]"
   ]
  },
  {
   "cell_type": "markdown",
   "metadata": {
    "id": "l6K2Cm1Bq7Kl"
   },
   "source": [
    "# Data and model preparation"
   ]
  },
  {
   "cell_type": "markdown",
   "metadata": {
    "id": "sRp5rd9W3rXm"
   },
   "source": [
    "## Installing DistilBERT\n",
    "Alternative to full-fat BERT, roughly matching its performance while being faster."
   ]
  },
  {
   "cell_type": "code",
   "execution_count": 11,
   "metadata": {
    "colab": {
     "base_uri": "https://localhost:8080/"
    },
    "executionInfo": {
     "elapsed": 10456,
     "status": "ok",
     "timestamp": 1635308165267,
     "user": {
      "displayName": "Khiêm Huỳnh Thiện",
      "photoUrl": "https://lh3.googleusercontent.com/a-/AOh14GiKsMYrfMtAzOaIk6G51GUQwDS0P6dMkGSwN9B_aA=s64",
      "userId": "01825679077701569078"
     },
     "user_tz": -420
    },
    "id": "jx5V1QzS3wRX",
    "outputId": "b3ca5363-5788-48e5-9c3d-2c03fc1049ba"
   },
   "outputs": [
    {
     "name": "stderr",
     "output_type": "stream",
     "text": [
      "Some weights of the model checkpoint at distilbert-base-uncased were not used when initializing DistilBertModel: ['vocab_projector.bias', 'vocab_projector.weight', 'vocab_layer_norm.weight', 'vocab_transform.bias', 'vocab_transform.weight', 'vocab_layer_norm.bias']\n",
      "- This IS expected if you are initializing DistilBertModel from the checkpoint of a model trained on another task or with another architecture (e.g. initializing a BertForSequenceClassification model from a BertForPreTraining model).\n",
      "- This IS NOT expected if you are initializing DistilBertModel from the checkpoint of a model that you expect to be exactly identical (initializing a BertForSequenceClassification model from a BertForSequenceClassification model).\n"
     ]
    }
   ],
   "source": [
    "if not INSTALL_DISTILBERT:\n",
    "    os.environ['TRANSFORMERS_OFFLINE'] = '1'\n",
    "else:\n",
    "    !pip install transformers\n",
    "    \n",
    "import transformers as ppb\n",
    "tokenizer = ppb.DistilBertTokenizerFast.from_pretrained('distilbert-base-uncased')\n",
    "base_encoder = ppb.DistilBertModel.from_pretrained('distilbert-base-uncased')\n",
    "base_encoder_state = base_encoder.state_dict()"
   ]
  },
  {
   "cell_type": "markdown",
   "metadata": {
    "id": "vr1iQObJQOPB"
   },
   "source": [
    "## Define our dataset adapter class\n",
    "This wraps around our data and provides a PyTorch-compatible interface.\n",
    "\n",
    "One point of interest is how we do not explicitly store per-level one-hot encodings. Here we simply store one global copy (n-hot-encoded) then slice from it when requested, saving a bit of memory."
   ]
  },
  {
   "cell_type": "code",
   "execution_count": 12,
   "metadata": {
    "executionInfo": {
     "elapsed": 18,
     "status": "ok",
     "timestamp": 1635308165271,
     "user": {
      "displayName": "Khiêm Huỳnh Thiện",
      "photoUrl": "https://lh3.googleusercontent.com/a-/AOh14GiKsMYrfMtAzOaIk6G51GUQwDS0P6dMkGSwN9B_aA=s64",
      "userId": "01825679077701569078"
     },
     "user_tz": -420
    },
    "id": "I8cdh6oiQTsq"
   },
   "outputs": [],
   "source": [
    "from torch.utils.data import Dataset\n",
    "import torch\n",
    "\n",
    "class CustomDataset(Dataset):\n",
    "  def __init__(self, df, hierarchy, tokenizer, max_len):\n",
    "    self.tokenizer = tokenizer\n",
    "    # TODO: Make these customisable from the constructor interface\n",
    "    self.text = df[TEXT_COL_NAME]\n",
    "    self.labels = df['class_global']\n",
    "    self.levels = hierarchy.levels\n",
    "    self.level_offsets = hierarchy.level_offsets\n",
    "    self.max_len = max_len\n",
    "\n",
    "  def __len__(self):\n",
    "    return len(self.text)\n",
    "\n",
    "  def __getitem__(self, index):\n",
    "    text = str(self.text.iloc[index])\n",
    "    text = \" \".join(text.split())\n",
    "    inputs = self.tokenizer(\n",
    "      text,\n",
    "      None, # No text_pair\n",
    "      add_special_tokens=True, # CLS, SEP\n",
    "      max_length=self.max_len, # For us it's a hyperparam. See next cells.\n",
    "      padding='max_length',\n",
    "      truncation=True\n",
    "      # BERT tokenisers return attention masks by default\n",
    "    )\n",
    "\n",
    "    global_labels = self.labels.iloc[index]\n",
    "\n",
    "    result = {\n",
    "      'ids': torch.tensor(inputs['input_ids'], dtype=torch.long),\n",
    "      'mask': torch.tensor(inputs['attention_mask'], dtype=torch.long),\n",
    "      'global_labels': global_labels,\n",
    "    }\n",
    "\n",
    "    return result"
   ]
  },
  {
   "cell_type": "markdown",
   "metadata": {
    "id": "tZywhH4tS2Q0"
   },
   "source": [
    "Regarding that `max_len` hyperparameter, let's see the distribution of string lengths:"
   ]
  },
  {
   "cell_type": "code",
   "execution_count": 13,
   "metadata": {
    "colab": {
     "base_uri": "https://localhost:8080/",
     "height": 283
    },
    "executionInfo": {
     "elapsed": 1200,
     "status": "ok",
     "timestamp": 1635308166461,
     "user": {
      "displayName": "Khiêm Huỳnh Thiện",
      "photoUrl": "https://lh3.googleusercontent.com/a-/AOh14GiKsMYrfMtAzOaIk6G51GUQwDS0P6dMkGSwN9B_aA=s64",
      "userId": "01825679077701569078"
     },
     "user_tz": -420
    },
    "id": "LN-EM4dWS02O",
    "outputId": "c20c5dca-744d-4e14-bc99-679e8e68cb50"
   },
   "outputs": [
    {
     "data": {
      "text/plain": [
       "<AxesSubplot:>"
      ]
     },
     "execution_count": 13,
     "metadata": {},
     "output_type": "execute_result"
    },
    {
     "data": {
      "image/png": "[encoded data removed]",
      "text/plain": [
       "<Figure size 432x288 with 1 Axes>"
      ]
     },
     "metadata": {
      "needs_background": "light"
     },
     "output_type": "display_data"
    }
   ],
   "source": [
    "data[TEXT_COL_NAME].apply(lambda s: len(s.split())).hist()"
   ]
  },
  {
   "cell_type": "markdown",
   "metadata": {
    "id": "CZ33DAURTg3I"
   },
   "source": [
    "We prefer `max_len` to be a power of two that covers most of the titles. Here it seems 64 will do."
   ]
  },
  {
   "cell_type": "code",
   "execution_count": 14,
   "metadata": {
    "executionInfo": {
     "elapsed": 337,
     "status": "ok",
     "timestamp": 1635308388604,
     "user": {
      "displayName": "Khiêm Huỳnh Thiện",
      "photoUrl": "https://lh3.googleusercontent.com/a-/AOh14GiKsMYrfMtAzOaIk6G51GUQwDS0P6dMkGSwN9B_aA=s64",
      "userId": "01825679077701569078"
     },
     "user_tz": -420
    },
    "id": "wpFTDAgDq_oV"
   },
   "outputs": [],
   "source": [
    "###\n",
    "### TUNING HYPERPARAMETERS?\n",
    "### Simply adjust here then run this cell and those below it. No need to run those above.\n",
    "###\n",
    "\n",
    "folder_name = 'checkpoints-' + DATASET_NAME\n",
    "!mkdir $folder_name\n",
    "CHECKPOINT_IDX = len(os.listdir(folder_name)) // 2\n",
    "CHECKPOINT_PATH = './{}/{}_current.pt'.format(folder_name, CHECKPOINT_IDX)\n",
    "BEST_CHECKPOINT_PATH = './{}/{}_best.pt'.format(folder_name, CHECKPOINT_IDX)\n",
    "\n",
    "# Defining some key variables that will be used later on in the training\n",
    "MAX_LEN = 64\n",
    "HIDDEN_SIZE = 384\n",
    "LINEAR_DROPOUT_RATE = 0.25\n",
    "TRAIN_BATCH_SIZE = 4\n",
    "TEST_BATCH_SIZE = 4\n",
    "EPOCHS = 5\n",
    "LEARNING_RATE = 1e-03\n",
    "TRAINING_SET_RATIO = 0.8\n",
    "VALIDATION_SET_RATIO = 0.1\n",
    "# The rest is test set\n",
    "# Don't change this if you want a consistent sampling for easier comparisons\n",
    "RANDOM_SEED = 123\n",
    "\n",
    "FULL_SET = True"
   ]
  },
  {
   "cell_type": "code",
   "execution_count": 15,
   "metadata": {
    "executionInfo": {
     "elapsed": 16,
     "status": "ok",
     "timestamp": 1635308169692,
     "user": {
      "displayName": "Khiêm Huỳnh Thiện",
      "photoUrl": "https://lh3.googleusercontent.com/a-/AOh14GiKsMYrfMtAzOaIk6G51GUQwDS0P6dMkGSwN9B_aA=s64",
      "userId": "01825679077701569078"
     },
     "user_tz": -420
    },
    "id": "AZVe9KnLeek1"
   },
   "outputs": [],
   "source": [
    "small_data = None\n",
    "if not FULL_SET:\n",
    "    small_data = data.sample(frac = 0.005, random_state=RANDOM_SEED)"
   ]
  },
  {
   "cell_type": "markdown",
   "metadata": {
    "id": "6vRe05MEHZ9g"
   },
   "source": [
    "CV-split our dataset:"
   ]
  },
  {
   "cell_type": "code",
   "execution_count": 16,
   "metadata": {
    "colab": {
     "base_uri": "https://localhost:8080/"
    },
    "executionInfo": {
     "elapsed": 1211,
     "status": "ok",
     "timestamp": 1635308170890,
     "user": {
      "displayName": "Khiêm Huỳnh Thiện",
      "photoUrl": "https://lh3.googleusercontent.com/a-/AOh14GiKsMYrfMtAzOaIk6G51GUQwDS0P6dMkGSwN9B_aA=s64",
      "userId": "01825679077701569078"
     },
     "user_tz": -420
    },
    "id": "8973_cElHYg2",
    "outputId": "db7e22e7-b868-43ec-a114-4294c462cda3"
   },
   "outputs": [
    {
     "name": "stdout",
     "output_type": "stream",
     "text": [
      "(23365, 9)\n",
      "(2921, 9)\n",
      "(2920, 9)\n"
     ]
    }
   ],
   "source": [
    "train_set = None\n",
    "test_set = None\n",
    "if FULL_SET:\n",
    "    train_set = data.sample(frac = TRAINING_SET_RATIO, random_state=RANDOM_SEED)\n",
    "    val_test_set = data.drop(train_set.index)\n",
    "else:\n",
    "    train_set = small_data.sample(frac = TRAINING_SET_RATIO, random_state=RANDOM_SEED)\n",
    "    val_test_set = small_data.drop(train_set.index)\n",
    "\n",
    "val_set = val_test_set.sample(frac = VALIDATION_SET_RATIO / (1-TRAINING_SET_RATIO), random_state=RANDOM_SEED)\n",
    "test_set = val_test_set.drop(val_set.index)\n",
    "\n",
    "train_set = train_set.reset_index(drop=True)\n",
    "val_set = val_set.reset_index(drop=True)\n",
    "test_set = test_set.reset_index(drop=True)\n",
    "\n",
    "print(train_set.shape)\n",
    "print(val_set.shape)\n",
    "print(test_set.shape)"
   ]
  },
  {
   "cell_type": "markdown",
   "metadata": {
    "id": "4PXLfuJcV2aK"
   },
   "source": [
    "We can now wrap them in our Datasets, and then into PyTorch's DataLoaders."
   ]
  },
  {
   "cell_type": "code",
   "execution_count": 17,
   "metadata": {
    "colab": {
     "base_uri": "https://localhost:8080/",
     "height": 451,
     "referenced_widgets": [
      "3bf6825b7c0a4d75a5b6340575af92b7",
      "d67011f140984c90bcb2e5897e9cfec7",
      "3be0b068814c4625a8a26aaae6246fc5",
      "e83112deff534d02b02dab80d89f4c13",
      "8b59a1c8120d400285775ab9c7bf5fd0",
      "bcfe3b9cc0a84a71a23fe066e9f91f50",
      "9cf4df1b32a641118d1ec674040af9b6",
      "ab35a23f71ec4614a8d08ff9e97af4fd",
      "f4e89f31eee747959dfb78c50fcc3f4b",
      "49c2b1ce77694e378d0fdb66b1c56404",
      "76ecfa0377a9483db59cf4f3f8210f77",
      "df715fedf06d47b89a781ab143c31366",
      "34e07de58f3a4b7ea2224d8a496e869e",
      "480f7683750f4c8da678a997d1b6fce0",
      "cd184a49854a492db0f7338ddf1f25e5",
      "1093cda242734ed68f90ef8113ed2382",
      "6302b6fb6b22452999336c113b677dc4",
      "ad1dc10ec89e4e4fb92c87e1d900ba98",
      "09d6a6951d0647dcb714bc95d13c7036",
      "b3fb0b54a4c749789f8778c797de2a74",
      "205ba318b331401e8f8d66e532caa13f",
      "83ff5a1fcc5e40b19dba8346d43e57e0",
      "ecf624390bc24aed86e39d326dd2ac3f",
      "06622e52beb544b7a2b464d1de0902a1",
      "5717f1f6da554c83863f1fd513c76dc0",
      "1b2acc83686d4baf9768c19e68e08d31",
      "c997c00148b642388a7dfc5d4cea405a",
      "41ca3ed1ee364d9fb3ef06cc54abb557",
      "5b86bf4432244410b98d9f9d6b5fc676",
      "4778017f533d4360bce2a5d6b8a5b6cc",
      "8d4e5e118a55491a919f21304ca2d551",
      "926d83822645446885e7c9a9f5278674",
      "7e4105fcbc1148dba4cfe534c7a8e075",
      "d7b9dd68692d45e79ebb462eb1e52ed2",
      "56946bff74cc485797ed6b3498203651",
      "e4129340688f43b29db0a0378544a7f9",
      "ebe54699564d4587ab8d74857d4e8872",
      "97335ef817574cd58a87168b62763437",
      "e704839651a943a395100bb5da14759c",
      "bd923a63531e47f7b256ed4408780ef9",
      "1582c4067b56485b9366b146d357f5e4",
      "6749900841aa464ebcf3f3d56a24e4f0",
      "c33f0c0889024dabb79f1cf4c5855fff",
      "11294eb27f9a44599f1943202d83d956"
     ]
    },
    "executionInfo": {
     "elapsed": 2959,
     "status": "ok",
     "timestamp": 1635308208440,
     "user": {
      "displayName": "Khiêm Huỳnh Thiện",
      "photoUrl": "https://lh3.googleusercontent.com/a-/AOh14GiKsMYrfMtAzOaIk6G51GUQwDS0P6dMkGSwN9B_aA=s64",
      "userId": "01825679077701569078"
     },
     "user_tz": -420
    },
    "id": "_b1j_gNdV9Ux",
    "outputId": "96226c0d-346f-4133-cffa-d6198eaf79b8"
   },
   "outputs": [],
   "source": [
    "train_set = CustomDataset(train_set, hierarchy, tokenizer, MAX_LEN)\n",
    "val_set = CustomDataset(val_set, hierarchy, tokenizer, MAX_LEN)\n",
    "test_set = CustomDataset(test_set, hierarchy, tokenizer, MAX_LEN)\n",
    "\n",
    "from torch.utils.data import DataLoader\n",
    "\n",
    "train_loader = DataLoader(dataset=train_set, batch_size=TRAIN_BATCH_SIZE, shuffle=True, num_workers=0)\n",
    "val_loader = DataLoader(dataset=val_set, batch_size=TRAIN_BATCH_SIZE, shuffle=True, num_workers=0)\n",
    "test_loader = DataLoader(dataset=test_set, batch_size=TEST_BATCH_SIZE, shuffle=True, num_workers=0)"
   ]
  },
  {
   "cell_type": "markdown",
   "metadata": {
    "id": "qctL3oYVuxCE"
   },
   "source": [
    "We'll also build a helper to extract per-level labels from the global label vector."
   ]
  },
  {
   "cell_type": "code",
   "execution_count": 18,
   "metadata": {
    "executionInfo": {
     "elapsed": 309,
     "status": "ok",
     "timestamp": 1635308210792,
     "user": {
      "displayName": "Khiêm Huỳnh Thiện",
      "photoUrl": "https://lh3.googleusercontent.com/a-/AOh14GiKsMYrfMtAzOaIk6G51GUQwDS0P6dMkGSwN9B_aA=s64",
      "userId": "01825679077701569078"
     },
     "user_tz": -420
    },
    "id": "vFi0uo2yuwY2"
   },
   "outputs": [],
   "source": [
    "def extract_labels_level(global_labels, hierarchy, level, verbose=False, dims=None):\n",
    "  if verbose:\n",
    "    print('Slicing from {} to {}'.format(hierarchy.level_offsets[level], hierarchy.level_offsets[level + 1]))\n",
    "  if dims is None and global_labels.dim() == 2 or dims == 2:\n",
    "    return global_labels[:, hierarchy.level_offsets[level] : hierarchy.level_offsets[level + 1]]\n",
    "  return global_labels[hierarchy.level_offsets[level] : hierarchy.level_offsets[level + 1]]"
   ]
  },
  {
   "cell_type": "markdown",
   "metadata": {
    "id": "A-yMcdJ6oW40"
   },
   "source": [
    "Test-run:"
   ]
  },
  {
   "cell_type": "code",
   "execution_count": 19,
   "metadata": {
    "colab": {
     "base_uri": "https://localhost:8080/"
    },
    "executionInfo": {
     "elapsed": 353,
     "status": "ok",
     "timestamp": 1635308219460,
     "user": {
      "displayName": "Khiêm Huỳnh Thiện",
      "photoUrl": "https://lh3.googleusercontent.com/a-/AOh14GiKsMYrfMtAzOaIk6G51GUQwDS0P6dMkGSwN9B_aA=s64",
      "userId": "01825679077701569078"
     },
     "user_tz": -420
    },
    "id": "FH7BNY8foX_g",
    "outputId": "78a96f48-2230-455a-ec12-f2d7adb17a97"
   },
   "outputs": [
    {
     "name": "stdout",
     "output_type": "stream",
     "text": [
      "Retrieved:\n",
      "[[array(['Sports & Outdoors'], dtype=object), array(['Outdoor Sports'], dtype=object)], [array(['Sports & Outdoors'], dtype=object), array(['Exercise & Fitness'], dtype=object)], [array(['Sports & Outdoors'], dtype=object), array(['Sports'], dtype=object)], [array(['Sports & Outdoors'], dtype=object), array(['Sports'], dtype=object)]]\n",
      "Level 0:\n",
      "Slicing from 0 to 31\n",
      "Nonzero indices: tensor([27, 27, 27, 27])\n",
      "['Sports & Outdoors' 'Sports & Outdoors' 'Sports & Outdoors'\n",
      " 'Sports & Outdoors']\n",
      "Level 1:\n",
      "Slicing from 31 to 322\n",
      "Nonzero indices: tensor([220, 126, 281, 281])\n",
      "['Outdoor Sports' 'Exercise & Fitness' 'Sports' 'Sports']\n"
     ]
    }
   ],
   "source": [
    "test_batch = next(iter(test_loader))\n",
    "print('Retrieved:')\n",
    "print([retrieve_classes(row, global_categorical.categories) for row in test_batch['global_labels']])\n",
    "for i in range(DEPTH):\n",
    "  print('Level {}:'.format(i))\n",
    "  local_labels = extract_labels_level(test_batch['global_labels'], hierarchy, i, verbose=True)\n",
    "  nonzero_indices = np.nonzero(local_labels)\n",
    "  global_nonzero_indices = nonzero_indices[:, 1] + hierarchy.level_offsets[i]\n",
    "  print('Nonzero indices:', global_nonzero_indices)\n",
    "  print(global_categorical.categories[global_nonzero_indices])"
   ]
  },
  {
   "cell_type": "markdown",
   "metadata": {
    "id": "vGLkaGimW285"
   },
   "source": [
    "## Prepare the model itself\n",
    "Here we use DistilBERT as the encoding layers, followed by our implementation of HMCN-F."
   ]
  },
  {
   "cell_type": "markdown",
   "metadata": {
    "id": "p4yHw2BlRhLM"
   },
   "source": [
    "### HMCN-F\n",
    "HMCN-F is specifically designed for maximizing the learn-\n",
    "ing capacity regarding the hierarchical structure of the la-\n",
    "beled data.\n",
    "\n",
    "In this model, information flows in two ways:\n",
    "i) the main flow, which begins with the input layer and tra-\n",
    "verses all fully-connected (FC) layers until it reaches the\n",
    "global output; and ii) the local flows, which also begin in the\n",
    "input layer and pass by their respective global FC layers but\n",
    "also through specific local FC layers, finally ending at the\n",
    "corresponding local output. For generating the final prediction, all local outputs are then concatenated and pooled with\n",
    "the global output for a consensual prediction.\n",
    "\n",
    "Code2paper notation mapping:\n",
    "- `feature_size` = $|D|$\n",
    "- `global_hidden_sizes` = list of $|A^i_G|$ for i in $[1, |H|]$\n",
    "- `local_hidden_sizes` = list of $|A^i_L|$ for i in $[1, |H|]$\n",
    "- hierarchy:\n",
    "  - `len(hierarchy.levels)` = $|H|$\n",
    "  - `len(hierarchy.classes)` = $|C|$\n",
    "- `global_weight` = $\\beta$\n",
    "\n",
    "**One significant difference between our version and the one in the paper** is that we replace batch normalisation with layer normalisation, which doesn't wreack havoc on NLP tasks like ours.\n",
    "\n",
    "The FC (linear) layers comprise 384 ReLU\n",
    "neurons, followed by a batch normalization, residual connections, and dropout of 60%. Dropout is important given\n",
    "that these models could easily overfit the small training sets."
   ]
  },
  {
   "cell_type": "code",
   "execution_count": 20,
   "metadata": {
    "executionInfo": {
     "elapsed": 336,
     "status": "ok",
     "timestamp": 1635308265777,
     "user": {
      "displayName": "Khiêm Huỳnh Thiện",
      "photoUrl": "https://lh3.googleusercontent.com/a-/AOh14GiKsMYrfMtAzOaIk6G51GUQwDS0P6dMkGSwN9B_aA=s64",
      "userId": "01825679077701569078"
     },
     "user_tz": -420
    },
    "id": "hGFxM_q2RpkC"
   },
   "outputs": [],
   "source": [
    "import torch\n",
    "from tqdm.notebook import tqdm\n",
    "\n",
    "class HMCNF(torch.nn.Module):\n",
    "  def __init__(\n",
    "      self, \n",
    "      feature_size, \n",
    "      global_hidden_sizes, \n",
    "      local_hidden_sizes, \n",
    "      dropout_rate, # after every linear layer\n",
    "      hierarchy,\n",
    "      hidden_nonlinear='relu',\n",
    "      global_weight=0.5\n",
    "      ):\n",
    "    super(HMCNF, self).__init__()\n",
    "\n",
    "    # Back up some parameters for use in forward()\n",
    "    self.depth = len(hierarchy.levels)\n",
    "    self.global_weight = global_weight\n",
    "\n",
    "    # Construct global layers (main flow)\n",
    "    global_layers = []\n",
    "    global_layer_norms = []\n",
    "    for i in range(len(hierarchy.levels)):\n",
    "      if i == 0:\n",
    "        global_layers.append(\n",
    "            torch.nn.Linear(feature_size, global_hidden_sizes[0]))\n",
    "      else:\n",
    "        global_layers.append(\n",
    "            torch.nn.Linear(global_hidden_sizes[i-1] + feature_size, global_hidden_sizes[i]))\n",
    "      global_layer_norms.append(torch.nn.LayerNorm(global_hidden_sizes[i]))\n",
    "    self.global_layers = torch.nn.ModuleList(global_layers)\n",
    "    self.global_layer_norms = torch.nn.ModuleList(global_layer_norms)\n",
    "    # Global prediction layer\n",
    "    self.global_prediction_layer = torch.nn.Linear(\n",
    "        global_hidden_sizes[len(global_hidden_sizes) - 1] + feature_size, \n",
    "        len(hierarchy.classes)\n",
    "        )\n",
    "    \n",
    "    # Construct local branches (local flow).\n",
    "    # Each local branch has two linear layers: a transition layer and a local\n",
    "    # classification layer \n",
    "    transition_layers = []\n",
    "    local_layer_norms = []\n",
    "    local_layers = []\n",
    "    \n",
    "    for i in range(len(hierarchy.levels)):\n",
    "      transition_layers.append(\n",
    "          torch.nn.Linear(global_hidden_sizes[i], local_hidden_sizes[i]),\n",
    "      )\n",
    "      local_layer_norms.append(\n",
    "          torch.nn.LayerNorm(local_hidden_sizes[i])\n",
    "      )\n",
    "      local_layers.append(\n",
    "          torch.nn.Linear(local_hidden_sizes[i], hierarchy.levels[i])\n",
    "      )\n",
    "    self.local_layer_norms = torch.nn.ModuleList(local_layer_norms)\n",
    "    self.transition_layers = torch.nn.ModuleList(transition_layers)\n",
    "    self.local_layers = torch.nn.ModuleList(local_layers)\n",
    "    \n",
    "    # Activation functions\n",
    "    self.hidden_nonlinear = torch.nn.ReLU() if hidden_nonlinear == 'relu' else torch.nn.Tanh()\n",
    "    self.output_nonlinear = torch.nn.Sigmoid()\n",
    "\n",
    "    # Dropout\n",
    "    self.dropout = torch.nn.Dropout(p=dropout_rate)\n",
    "\n",
    "  def forward(self, x):\n",
    "    # We have |D| hidden layers plus one global prediction layer\n",
    "    local_outputs = []\n",
    "    output = x # Would be global path output until the last step\n",
    "    for i in range(len(self.global_layers)):\n",
    "      # Global path\n",
    "      if i == 0:\n",
    "        # Don't concatenate x into the first layer's input\n",
    "        output = self.hidden_nonlinear(\n",
    "            self.global_layer_norms[i](\n",
    "                self.global_layers[i](output)\n",
    "                )\n",
    "            )\n",
    "      else:\n",
    "        output = self.hidden_nonlinear(self.global_layer_norms[i](\n",
    "                self.global_layers[i](torch.cat([output, x], dim=1))\n",
    "              )\n",
    "            )\n",
    "\n",
    "      # Local path. Note the dropout between the transition ReLU layer and the local layer.\n",
    "      local_output = self.dropout(\n",
    "          self.hidden_nonlinear(\n",
    "              self.local_layer_norms[i](self.transition_layers[i](output))\n",
    "              )\n",
    "            )\n",
    "      local_output = self.output_nonlinear(self.local_layers[i](local_output))\n",
    "      local_outputs.append(local_output)\n",
    "\n",
    "      # Dropout main flow for next layer\n",
    "      # TODO: investigate introducing layernorm here\n",
    "      output = self.dropout(output)\n",
    "\n",
    "    global_outputs = self.output_nonlinear(\n",
    "      self.global_prediction_layer(torch.cat([output, x], dim=1))\n",
    "      )\n",
    "    local_outputs_concat = torch.cat(local_outputs, dim=1)\n",
    "    output = self.global_weight * global_outputs + (1 - self.global_weight) * local_outputs_concat\n",
    "    return output, local_outputs"
   ]
  },
  {
   "cell_type": "markdown",
   "metadata": {
    "id": "i0IX_h9gRqhO"
   },
   "source": [
    "### Entire model"
   ]
  },
  {
   "cell_type": "code",
   "execution_count": 21,
   "metadata": {
    "colab": {
     "base_uri": "https://localhost:8080/",
     "height": 659,
     "referenced_widgets": [
      "e6a9d50369b743e6ab9095e7cb09ba85",
      "37039050ba0d48498777046a7b5098bc",
      "71467b9c601b42caa956b933644df950",
      "73db3abf8a5c4a14bb9e3c857b0cd73a",
      "4ff872907c104e5da154a1980ebee4a8",
      "bb83648a87c3446c92bb5052ef6847f1",
      "883563031f904e81b0ccf7ebc20d912a",
      "ff63f13c42194f70ba8c6e04d907b11b",
      "57f935dcbcb047d787a6fe1e99cd51f2",
      "a4d30ceda14f47d6a3c05f9be708a3b9",
      "ef1169b0d36e4f37af27ddf2a3f2c69c"
     ]
    },
    "executionInfo": {
     "elapsed": 30046,
     "status": "ok",
     "timestamp": 1635308300463,
     "user": {
      "displayName": "Khiêm Huỳnh Thiện",
      "photoUrl": "https://lh3.googleusercontent.com/a-/AOh14GiKsMYrfMtAzOaIk6G51GUQwDS0P6dMkGSwN9B_aA=s64",
      "userId": "01825679077701569078"
     },
     "user_tz": -420
    },
    "id": "n8ntCwCH89Nm",
    "outputId": "1748f834-205c-4a8a-cfbe-fc09fa1bc4bd"
   },
   "outputs": [
    {
     "data": {
      "text/plain": [
       "HMCNF(\n",
       "  (global_layers): ModuleList(\n",
       "    (0): Linear(in_features=768, out_features=384, bias=True)\n",
       "    (1): Linear(in_features=1152, out_features=384, bias=True)\n",
       "  )\n",
       "  (global_layer_norms): ModuleList(\n",
       "    (0): LayerNorm((384,), eps=1e-05, elementwise_affine=True)\n",
       "    (1): LayerNorm((384,), eps=1e-05, elementwise_affine=True)\n",
       "  )\n",
       "  (global_prediction_layer): Linear(in_features=1152, out_features=322, bias=True)\n",
       "  (local_layer_norms): ModuleList(\n",
       "    (0): LayerNorm((384,), eps=1e-05, elementwise_affine=True)\n",
       "    (1): LayerNorm((384,), eps=1e-05, elementwise_affine=True)\n",
       "  )\n",
       "  (transition_layers): ModuleList(\n",
       "    (0): Linear(in_features=384, out_features=384, bias=True)\n",
       "    (1): Linear(in_features=384, out_features=384, bias=True)\n",
       "  )\n",
       "  (local_layers): ModuleList(\n",
       "    (0): Linear(in_features=384, out_features=31, bias=True)\n",
       "    (1): Linear(in_features=384, out_features=291, bias=True)\n",
       "  )\n",
       "  (hidden_nonlinear): ReLU()\n",
       "  (output_nonlinear): Sigmoid()\n",
       "  (dropout): Dropout(p=0.25, inplace=False)\n",
       ")"
      ]
     },
     "execution_count": 21,
     "metadata": {},
     "output_type": "execute_result"
    }
   ],
   "source": [
    "encoder = base_encoder\n",
    "encoder.load_state_dict(base_encoder_state)\n",
    "encoder.to(device)\n",
    "\n",
    "# For now we'll be directly passing to HMCN-F without dropouts. Later we might have to wrap it.\n",
    "depth = len(hierarchy.levels)\n",
    "classifier = HMCNF(\n",
    "  768, # DistilBERT outputs 768 values.\n",
    "  global_hidden_sizes=[HIDDEN_SIZE] * depth, \n",
    "  local_hidden_sizes=[HIDDEN_SIZE] * depth, \n",
    "  dropout_rate = LINEAR_DROPOUT_RATE,\n",
    "  hierarchy=hierarchy,\n",
    "  hidden_nonlinear='relu',\n",
    "  global_weight=0.5\n",
    ")\n",
    "\n",
    "classifier.to(device)"
   ]
  },
  {
   "cell_type": "markdown",
   "metadata": {
    "id": "gfHPZdswaBY8"
   },
   "source": [
    "Now we define the loss function that we will use to fine-tune our model (DistilBERT included).\n",
    "\n",
    "For now we'll stick with one of the provided loss functions instead of building anything radical. As we are performing multiclass classification here, we should use Cross Entropy Loss (the normal one for multiclass, not BCE for binary).\n",
    "\n",
    "We also construct our optimiser here.\n",
    "\n"
   ]
  },
  {
   "cell_type": "code",
   "execution_count": 22,
   "metadata": {
    "executionInfo": {
     "elapsed": 326,
     "status": "ok",
     "timestamp": 1635308302760,
     "user": {
      "displayName": "Khiêm Huỳnh Thiện",
      "photoUrl": "https://lh3.googleusercontent.com/a-/AOh14GiKsMYrfMtAzOaIk6G51GUQwDS0P6dMkGSwN9B_aA=s64",
      "userId": "01825679077701569078"
     },
     "user_tz": -420
    },
    "id": "hXZXWUITaBF3"
   },
   "outputs": [],
   "source": [
    "def loss_fn(outputs, targets):\n",
    "    return torch.nn.BCELoss()(outputs, targets)\n",
    "\n",
    "# Only train our classifier - leave BERT for later\n",
    "optimizer = torch.optim.Adam(params=classifier.parameters(), lr=LEARNING_RATE)"
   ]
  },
  {
   "cell_type": "markdown",
   "metadata": {
    "id": "2_btMadIfe7A"
   },
   "source": [
    "## Checkpoints\n",
    "PyTorch allows us to save the best-performing model automatically so we can restart from that instead of the beginning. No reason not to do that."
   ]
  },
  {
   "cell_type": "code",
   "execution_count": 23,
   "metadata": {
    "executionInfo": {
     "elapsed": 6,
     "status": "ok",
     "timestamp": 1635308304269,
     "user": {
      "displayName": "Khiêm Huỳnh Thiện",
      "photoUrl": "https://lh3.googleusercontent.com/a-/AOh14GiKsMYrfMtAzOaIk6G51GUQwDS0P6dMkGSwN9B_aA=s64",
      "userId": "01825679077701569078"
     },
     "user_tz": -420
    },
    "id": "mIDVu-5Ffd6v"
   },
   "outputs": [],
   "source": [
    "import shutil, sys\n",
    "def load_checkpoint(checkpoint_fpath, model, optimizer=None):\n",
    "    \"\"\"\n",
    "    checkpoint_fpath: path to save checkpoint\n",
    "    model: model that we want to load checkpoint parameters into       \n",
    "    optimizer: optimizer we defined in previous training\n",
    "    \"\"\"\n",
    "\n",
    "    # load check point\n",
    "    checkpoint = torch.load(checkpoint_fpath)\n",
    "\n",
    "    # initialize state_dict from checkpoint to model\n",
    "    model.load_state_dict(checkpoint['state_dict'])\n",
    "\n",
    "    if optimizer is not None:\n",
    "        optimizer.load_state_dict(checkpoint['optimizer'])\n",
    "        return model, optimizer\n",
    "    return model\n",
    "\n",
    "def save_checkpoint(state, is_best, checkpoint_path, best_model_path):\n",
    "    \"\"\"\n",
    "    state: checkpoint we want to save\n",
    "    is_best: is this the best checkpoint; min validation loss\n",
    "    checkpoint_path: path to save checkpoint\n",
    "    best_model_path: path to save best model\n",
    "    \"\"\"\n",
    "\n",
    "    f_path = checkpoint_path\n",
    "    # save checkpoint data to the path given, checkpoint_path\n",
    "    torch.save(state, f_path)\n",
    "    # if it is a best model (min validation lost)\n",
    "    if is_best:\n",
    "        best_fpath = best_model_path\n",
    "        # copy that checkpoint file to best path given, best_model_path\n",
    "        shutil.copyfile(f_path, best_fpath)"
   ]
  },
  {
   "cell_type": "markdown",
   "metadata": {
    "id": "IFA8W-4CvOH9"
   },
   "source": [
    "# Training time"
   ]
  },
  {
   "cell_type": "code",
   "execution_count": 24,
   "metadata": {},
   "outputs": [],
   "source": [
    "from sklearn import metrics\n",
    "def get_metrics(local_output, global_output, targets, hierarchy):\n",
    "    local_leaf_p = local_output[:, hierarchy.level_offsets[DEPTH-1]:]\n",
    "    global_leaf_p = global_output[:, hierarchy.level_offsets[DEPTH-1]:]\n",
    "    # Get predicted codes\n",
    "    local_leaf_codes = np.argmax(local_leaf_p, axis=1) + hierarchy.level_offsets[DEPTH-1]\n",
    "    global_leaf_codes = np.argmax(global_leaf_p, axis=1) + hierarchy.level_offsets[DEPTH-1]\n",
    "    # Get target codes\n",
    "    target_leaf_codes = np.argmax(targets[:, hierarchy.level_offsets[DEPTH-1]:], axis=1) + hierarchy.level_offsets[DEPTH-1]\n",
    "    \n",
    "    local_acc = metrics.accuracy_score(local_leaf_codes, target_leaf_codes)\n",
    "    local_pre = metrics.precision_score(local_leaf_codes, target_leaf_codes, average='weighted')\n",
    "    print('Local leaf level accuracy:')\n",
    "    print(\"Accuracy:\", local_acc)\n",
    "    # Model Precision: what percentage of positive tuples are labeled as such?\n",
    "    print(\"Precision:\", local_pre)\n",
    "\n",
    "    global_acc = metrics.accuracy_score(global_leaf_codes, target_leaf_codes)\n",
    "    global_pre = metrics.precision_score(global_leaf_codes, target_leaf_codes, average='weighted')\n",
    "    print('\\nGlobal leaf level accuracy:')\n",
    "    print(\"Accuracy:\", global_acc)\n",
    "    # Model Precision: what percentage of positive tuples are labeled as such?\n",
    "    print(\"Precision:\", global_pre)\n",
    "    \n",
    "    return np.array([local_acc, local_pre, global_acc, global_pre])"
   ]
  },
  {
   "cell_type": "code",
   "execution_count": 25,
   "metadata": {
    "executionInfo": {
     "elapsed": 725,
     "status": "ok",
     "timestamp": 1635308351885,
     "user": {
      "displayName": "Khiêm Huỳnh Thiện",
      "photoUrl": "https://lh3.googleusercontent.com/a-/AOh14GiKsMYrfMtAzOaIk6G51GUQwDS0P6dMkGSwN9B_aA=s64",
      "userId": "01825679077701569078"
     },
     "user_tz": -420
    },
    "id": "ZxqdEcgMvPoV"
   },
   "outputs": [],
   "source": [
    "from tqdm.notebook import tqdm\n",
    "\n",
    "def train_model(start_epochs, n_epochs, val_loss_min_input, \n",
    "                training_loader, val_loader, model, hierarchy, lambda_factor,\n",
    "                optimizer, checkpoint_path, best_model_path):\n",
    "  encoder, classifier = model\n",
    "\n",
    "  # TODO: Somehow do this on GPU\n",
    "  parent_of = torch.LongTensor(hierarchy.parent_of)\n",
    "\n",
    "  # Per-level labels\n",
    "  level_offsets = reduce(lambda acc, elem: acc + [acc[len(acc) - 1] + elem], hierarchy.levels, [0])\n",
    "\n",
    "  # Store validation metrics after each epoch\n",
    "  val_metrics = np.empty((4, 0), dtype=float)\n",
    "\n",
    "  # Keep min validation (test set) loss so we can separately back up our best-yet model\n",
    "  val_loss_min = val_loss_min_input\n",
    "  for epoch in range(start_epochs, n_epochs+1):\n",
    "    train_loss = 0\n",
    "    val_loss = 0\n",
    "    # Put model into training mode. Note that this call DOES NOT train it yet.\n",
    "    classifier.train()\n",
    "    print('Epoch {}: Training'.format(epoch))\n",
    "    for batch_idx, data in enumerate(tqdm(training_loader)):\n",
    "      ids = data['ids'].to(device, dtype = torch.long)\n",
    "      mask = data['mask'].to(device, dtype = torch.long)\n",
    "      global_targets = data['global_labels'].to(device, dtype = torch.float)\n",
    "\n",
    "      features = encoder(ids, mask)[0][:,0,:]\n",
    "      global_output, local_outputs = classifier(features)\n",
    "\n",
    "      optimizer.zero_grad()\n",
    "\n",
    "      # We have three loss functions: (g)lobal, (l)ocal, and (h)ierarchical.\n",
    "      loss_g = loss_fn(global_output, global_targets)\n",
    "      loss_l = sum([ loss_fn(\n",
    "            local_outputs[level],\n",
    "            global_targets[:, level_offsets[level] : level_offsets[level + 1]]\n",
    "            ) for level in range(len(hierarchy.levels))])\n",
    "      global_output_cpu = global_output.cpu().detach()\n",
    "      loss_h = torch.sum(lambda_factor * torch.clamp(torch.FloatTensor(\n",
    "        global_output_cpu - \n",
    "        global_output_cpu.index_select(1, parent_of)\n",
    "      ), min=0) ** 2)\n",
    "      loss = loss_g + loss_l + loss_h\n",
    "\n",
    "      # PyTorch defaults to accumulating gradients, but we don't need that here\n",
    "      optimizer.zero_grad()\n",
    "      loss.backward()\n",
    "      optimizer.step()\n",
    "\n",
    "      train_loss = train_loss + (loss.item() - train_loss) / (batch_idx + 1)\n",
    "\n",
    "    print('Epoch {}: Testing'.format(epoch))\n",
    "    \n",
    "    \n",
    "    # Switch to evaluation (prediction) mode. Again, this doesn't evaluate anything.\n",
    "    classifier.eval()\n",
    "\n",
    "    global_val_targets = np.empty((0, len(hierarchy.classes)), dtype=bool)\n",
    "    global_val_outputs = np.empty((0, len(hierarchy.classes)), dtype=float)\n",
    "    local_val_outputs = np.empty((0, len(hierarchy.classes)), dtype=float)\n",
    "\n",
    "    # We're only testing here, so don't run the backward direction (no_grad).\n",
    "    with torch.no_grad():\n",
    "      total_loss_g = 0\n",
    "      total_loss_l = 0\n",
    "      total_loss_h = 0\n",
    "      batch_count = 0\n",
    "      for batch_idx, data in enumerate(tqdm(val_loader)):\n",
    "        batch_count += 1\n",
    "        ids = data['ids'].to(device, dtype = torch.long)\n",
    "        mask = data['mask'].to(device, dtype = torch.long)\n",
    "        global_targets = data['global_labels'].to(device, dtype = torch.float)\n",
    "\n",
    "        features = encoder(ids, mask)[0][:,0,:]\n",
    "        global_output, local_outputs = classifier(features)\n",
    "\n",
    "        loss_g = loss_fn(global_output, global_targets)\n",
    "        loss_l = sum([ loss_fn(\n",
    "              local_outputs[level],\n",
    "              global_targets[:, level_offsets[level] : level_offsets[level + 1]]\n",
    "              ) for level in range(len(hierarchy.levels))])\n",
    "        global_output_cpu = global_output.cpu().detach()\n",
    "        loss_h = torch.sum(lambda_factor * torch.clamp(torch.FloatTensor(\n",
    "          global_output_cpu - \n",
    "          global_output_cpu.index_select(1, parent_of)\n",
    "        ), min=0) ** 2)\n",
    "        loss = loss_g + loss_l + loss_h\n",
    "\n",
    "        total_loss_g += loss_g\n",
    "        total_loss_l += loss_l\n",
    "        total_loss_h += loss_h\n",
    "\n",
    "        val_loss = val_loss + (loss.item() - val_loss) / (batch_idx + 1)\n",
    "\n",
    "        global_val_targets = np.concatenate([global_val_targets, global_targets.cpu().detach().numpy()])\n",
    "        global_val_outputs = np.concatenate([global_val_outputs, global_output_cpu.numpy()])\n",
    "        # Concatenate local test outputs\n",
    "        local_val_outputs_concat = np.concatenate([*map(lambda t: t.cpu().detach().numpy(), local_outputs)], axis=1)\n",
    "        local_val_outputs = np.concatenate([local_val_outputs, local_val_outputs_concat])\n",
    "\n",
    "      # calculate average losses\n",
    "      #print('before cal avg train loss', train_loss)\n",
    "      print('Average minibatch global loss:', total_loss_g / batch_count)\n",
    "      print('Average minibatch local loss:', total_loss_l / batch_count)\n",
    "      print('Average minibatch hierarchical loss:', total_loss_h / batch_count)\n",
    "    \n",
    "      val_metrics = np.concatenate([val_metrics, \n",
    "                                    np.expand_dims(get_metrics(local_val_outputs, global_val_outputs, global_val_targets, hierarchy), axis=1)],\n",
    "                                   axis=1)\n",
    "      train_loss = train_loss/len(training_loader)\n",
    "      val_loss = val_loss/len(val_loader)\n",
    "      # Print training/validation statistics \n",
    "      print('Avgerage training loss: {:.6f}\\nAverage validation loss: {:.6f}'.format( \n",
    "            train_loss,\n",
    "            val_loss\n",
    "            ))\n",
    "\n",
    "      # create checkpoint variable and add important data\n",
    "      checkpoint = {\n",
    "            'epoch': epoch + 1,\n",
    "            'val_loss_min': val_loss,\n",
    "            'state_dict': classifier.state_dict(),\n",
    "            'optimizer': optimizer.state_dict()\n",
    "      }\n",
    "      # save checkpoint\n",
    "      save_checkpoint(checkpoint, False, checkpoint_path, best_model_path)\n",
    "\n",
    "      if val_loss <= val_loss_min:\n",
    "        print('Validation loss decreased ({:.6f} --> {:.6f}).  Saving model ...'.format(val_loss_min,val_loss))\n",
    "        # save checkpoint as best model\n",
    "        save_checkpoint(checkpoint, True, checkpoint_path, best_model_path)\n",
    "        val_loss_min = val_loss\n",
    "    print('Epoch {}: Done\\n'.format(epoch))\n",
    "  return classifier, val_metrics\n",
    "\n",
    "# Alternative: just load from disk\n",
    "def run_model(model, loader, hierarchy):\n",
    "  encoder, classifier = model\n",
    "  # Switch to evaluation (prediction) mode. Again, this doesn't evaluate anything.\n",
    "  classifier.eval()\n",
    "\n",
    "  all_global_targets = np.empty((0, len(hierarchy.classes)), dtype=bool)\n",
    "  all_global_outputs = np.empty((0, len(hierarchy.classes)), dtype=float)\n",
    "  all_local_outputs = np.empty((0, len(hierarchy.classes)), dtype=float)\n",
    "\n",
    "  # We're only testing here, so don't run the backward direction (no_grad).\n",
    "  with torch.no_grad():\n",
    "    for batch_idx, data in enumerate(tqdm(loader)):\n",
    "      ids = data['ids'].to(device, dtype = torch.long)\n",
    "      mask = data['mask'].to(device, dtype = torch.long)\n",
    "      global_targets = data['global_labels'].to(device, dtype = torch.float)\n",
    "\n",
    "      features = encoder(ids, mask)[0][:,0,:]\n",
    "      global_output, local_outputs = classifier(features)\n",
    "\n",
    "      all_global_targets = np.concatenate([all_global_targets, global_targets.cpu().detach().numpy()])\n",
    "      all_global_outputs = np.concatenate([all_global_outputs, global_output.cpu().detach().numpy()])\n",
    "      # Concatenate local test outputs\n",
    "      local_outputs_concat = np.concatenate([*map(lambda t: t.cpu().detach().numpy(), local_outputs)], axis=1)\n",
    "      all_local_outputs = np.concatenate([all_local_outputs, local_outputs_concat])\n",
    "  return {\n",
    "      'global_targets': all_global_targets,\n",
    "      'global_outputs': all_global_outputs,\n",
    "      'local_outputs': all_local_outputs,\n",
    "  }"
   ]
  },
  {
   "cell_type": "code",
   "execution_count": 27,
   "metadata": {
    "colab": {
     "base_uri": "https://localhost:8080/",
     "height": 103,
     "referenced_widgets": [
      "7512c7bbac2b4a8a86e6759f3bbbc2b8",
      "a36dc39df13c4fb6b06210e9f7d4e5cb",
      "bfa45769c90c4e50829b7bba9c673531",
      "56dbdd9ba90042a1a7ba7075226a6a44",
      "3ed89d90b8d042d2b62f8f24711000df",
      "5359a706b7d04c81b9919471f7f4e275",
      "255c8c0083c040a188e98fea8afed4e0",
      "a356d74e3e1e46d08524c177fdab0c42",
      "d456c732a7934f4780a4e26adebe5d82",
      "64b1d8be1d114100b7ae1cb42bcb3425",
      "ef35c644d0824d529a22bed78aac1ab6"
     ]
    },
    "id": "DcqgkF06fnkf",
    "outputId": "5d27ba2c-1e57-4d06-d696-790354f3a582"
   },
   "outputs": [
    {
     "name": "stdout",
     "output_type": "stream",
     "text": [
      "Epoch 1: Training\n"
     ]
    },
    {
     "data": {
      "application/vnd.jupyter.widget-view+json": {
       "model_id": "daf3873c91e5472ab1fcf1aa90161190",
       "version_major": 2,
       "version_minor": 0
      },
      "text/plain": [
       "  0%|          | 0/5842 [00:00<?, ?it/s]"
      ]
     },
     "metadata": {},
     "output_type": "display_data"
    },
    {
     "name": "stdout",
     "output_type": "stream",
     "text": [
      "Epoch 1: Testing\n"
     ]
    },
    {
     "data": {
      "application/vnd.jupyter.widget-view+json": {
       "model_id": "4f1d48ded01c4fd6b1db71987922d9dc",
       "version_major": 2,
       "version_minor": 0
      },
      "text/plain": [
       "  0%|          | 0/731 [00:00<?, ?it/s]"
      ]
     },
     "metadata": {},
     "output_type": "display_data"
    },
    {
     "name": "stdout",
     "output_type": "stream",
     "text": [
      "Average minibatch global loss: tensor(0.0133, device='cuda:0')\n",
      "Average minibatch local loss: tensor(0.0598, device='cuda:0')\n",
      "Average minibatch hierarchical loss: tensor(0.0004)\n",
      "Local leaf level accuracy:\n",
      "Accuracy: 0.42930503252310853\n",
      "Precision: 0.6700589815024754\n",
      "\n",
      "Global leaf level accuracy:\n",
      "Accuracy: 0.5203697363916467\n",
      "Precision: 0.685810834863916\n",
      "Avgerage training loss: 0.000015\n",
      "Average validation loss: 0.000101\n",
      "Validation loss decreased (inf --> 0.000101).  Saving model ...\n",
      "Epoch 1: Done\n",
      "\n",
      "Epoch 2: Training\n"
     ]
    },
    {
     "data": {
      "application/vnd.jupyter.widget-view+json": {
       "model_id": "7771387552dd4db1b076a1136c1ba617",
       "version_major": 2,
       "version_minor": 0
      },
      "text/plain": [
       "  0%|          | 0/5842 [00:00<?, ?it/s]"
      ]
     },
     "metadata": {},
     "output_type": "display_data"
    },
    {
     "name": "stdout",
     "output_type": "stream",
     "text": [
      "Epoch 2: Testing\n"
     ]
    },
    {
     "data": {
      "application/vnd.jupyter.widget-view+json": {
       "model_id": "4199b6c317ba4d7983b705a0e3f58f2e",
       "version_major": 2,
       "version_minor": 0
      },
      "text/plain": [
       "  0%|          | 0/731 [00:00<?, ?it/s]"
      ]
     },
     "metadata": {},
     "output_type": "display_data"
    },
    {
     "name": "stdout",
     "output_type": "stream",
     "text": [
      "Average minibatch global loss: tensor(0.0121, device='cuda:0')\n",
      "Average minibatch local loss: tensor(0.0524, device='cuda:0')\n",
      "Average minibatch hierarchical loss: tensor(0.0011)\n",
      "Local leaf level accuracy:\n",
      "Accuracy: 0.49777473467990413\n",
      "Precision: 0.6921654268391583\n",
      "\n",
      "Global leaf level accuracy:\n",
      "Accuracy: 0.5453611776788772\n",
      "Precision: 0.701112479463665\n",
      "Avgerage training loss: 0.000012\n",
      "Average validation loss: 0.000090\n",
      "Validation loss decreased (0.000101 --> 0.000090).  Saving model ...\n",
      "Epoch 2: Done\n",
      "\n",
      "Epoch 3: Training\n"
     ]
    },
    {
     "data": {
      "application/vnd.jupyter.widget-view+json": {
       "model_id": "e18ba8bfccf443bb9292f651af8f1f48",
       "version_major": 2,
       "version_minor": 0
      },
      "text/plain": [
       "  0%|          | 0/5842 [00:00<?, ?it/s]"
      ]
     },
     "metadata": {},
     "output_type": "display_data"
    },
    {
     "name": "stdout",
     "output_type": "stream",
     "text": [
      "Epoch 3: Testing\n"
     ]
    },
    {
     "data": {
      "application/vnd.jupyter.widget-view+json": {
       "model_id": "2a44906c90ff417faa3c7565a480345b",
       "version_major": 2,
       "version_minor": 0
      },
      "text/plain": [
       "  0%|          | 0/731 [00:00<?, ?it/s]"
      ]
     },
     "metadata": {},
     "output_type": "display_data"
    },
    {
     "name": "stdout",
     "output_type": "stream",
     "text": [
      "Average minibatch global loss: tensor(0.0116, device='cuda:0')\n",
      "Average minibatch local loss: tensor(0.0524, device='cuda:0')\n",
      "Average minibatch hierarchical loss: tensor(0.0012)\n",
      "Local leaf level accuracy:\n",
      "Accuracy: 0.5207120849024307\n",
      "Precision: 0.695303293324831\n",
      "\n",
      "Global leaf level accuracy:\n",
      "Accuracy: 0.5727490585415953\n",
      "Precision: 0.7138167765486545\n",
      "Avgerage training loss: 0.000011\n",
      "Average validation loss: 0.000089\n",
      "Validation loss decreased (0.000090 --> 0.000089).  Saving model ...\n",
      "Epoch 3: Done\n",
      "\n",
      "Epoch 4: Training\n"
     ]
    },
    {
     "data": {
      "application/vnd.jupyter.widget-view+json": {
       "model_id": "3d1f7128475549109ffc47ac1c1cf235",
       "version_major": 2,
       "version_minor": 0
      },
      "text/plain": [
       "  0%|          | 0/5842 [00:00<?, ?it/s]"
      ]
     },
     "metadata": {},
     "output_type": "display_data"
    },
    {
     "name": "stdout",
     "output_type": "stream",
     "text": [
      "Epoch 4: Testing\n"
     ]
    },
    {
     "data": {
      "application/vnd.jupyter.widget-view+json": {
       "model_id": "21b15e84ceb0467eba977bb61ff71f09",
       "version_major": 2,
       "version_minor": 0
      },
      "text/plain": [
       "  0%|          | 0/731 [00:00<?, ?it/s]"
      ]
     },
     "metadata": {},
     "output_type": "display_data"
    },
    {
     "name": "stdout",
     "output_type": "stream",
     "text": [
      "Average minibatch global loss: tensor(0.0111, device='cuda:0')\n",
      "Average minibatch local loss: tensor(0.0503, device='cuda:0')\n",
      "Average minibatch hierarchical loss: tensor(0.0014)\n",
      "Local leaf level accuracy:\n",
      "Accuracy: 0.5566586785347484\n",
      "Precision: 0.7084164124813814\n",
      "\n",
      "Global leaf level accuracy:\n",
      "Accuracy: 0.6039027730229374\n",
      "Precision: 0.7185599011033112\n",
      "Avgerage training loss: 0.000010\n",
      "Average validation loss: 0.000086\n",
      "Validation loss decreased (0.000089 --> 0.000086).  Saving model ...\n"
     ]
    },
    {
     "name": "stderr",
     "output_type": "stream",
     "text": [
      "/usr/lib/python3.9/site-packages/sklearn/metrics/_classification.py:1308: UndefinedMetricWarning: Precision is ill-defined and being set to 0.0 in labels with no predicted samples. Use `zero_division` parameter to control this behavior.\n",
      "  _warn_prf(average, modifier, msg_start, len(result))\n"
     ]
    },
    {
     "name": "stdout",
     "output_type": "stream",
     "text": [
      "Epoch 4: Done\n",
      "\n",
      "Epoch 5: Training\n"
     ]
    },
    {
     "data": {
      "application/vnd.jupyter.widget-view+json": {
       "model_id": "93d839b959d44985962a1e0cfda106d9",
       "version_major": 2,
       "version_minor": 0
      },
      "text/plain": [
       "  0%|          | 0/5842 [00:00<?, ?it/s]"
      ]
     },
     "metadata": {},
     "output_type": "display_data"
    },
    {
     "name": "stdout",
     "output_type": "stream",
     "text": [
      "Epoch 5: Testing\n"
     ]
    },
    {
     "data": {
      "application/vnd.jupyter.widget-view+json": {
       "model_id": "809b1f938bb141eda3a6b2df03bfab8e",
       "version_major": 2,
       "version_minor": 0
      },
      "text/plain": [
       "  0%|          | 0/731 [00:00<?, ?it/s]"
      ]
     },
     "metadata": {},
     "output_type": "display_data"
    },
    {
     "name": "stdout",
     "output_type": "stream",
     "text": [
      "Average minibatch global loss: tensor(0.0107, device='cuda:0')\n",
      "Average minibatch local loss: tensor(0.0473, device='cuda:0')\n",
      "Average minibatch hierarchical loss: tensor(0.0018)\n",
      "Local leaf level accuracy:\n",
      "Accuracy: 0.578226634714139\n",
      "Precision: 0.7132729518227438\n",
      "\n",
      "Global leaf level accuracy:\n",
      "Accuracy: 0.6158849709003766\n",
      "Precision: 0.7229154414207053\n",
      "Avgerage training loss: 0.000010\n",
      "Average validation loss: 0.000082\n",
      "Validation loss decreased (0.000086 --> 0.000082).  Saving model ...\n",
      "Epoch 5: Done\n",
      "\n"
     ]
    },
    {
     "name": "stderr",
     "output_type": "stream",
     "text": [
      "/usr/lib/python3.9/site-packages/sklearn/metrics/_classification.py:1308: UndefinedMetricWarning: Precision is ill-defined and being set to 0.0 in labels with no predicted samples. Use `zero_division` parameter to control this behavior.\n",
      "  _warn_prf(average, modifier, msg_start, len(result))\n"
     ]
    },
    {
     "data": {
      "image/png": "[encoded data removed]",
      "text/plain": [
       "<Figure size 432x288 with 1 Axes>"
      ]
     },
     "metadata": {
      "needs_background": "light"
     },
     "output_type": "display_data"
    }
   ],
   "source": [
    "import matplotlib.pyplot as plt\n",
    "\n",
    "trained_classifier = None\n",
    "if TRAIN_FROM_SCRATCH:\n",
    "    trained_classifier, val_metrics = train_model(\n",
    "        1, # Count from one\n",
    "        EPOCHS, # EPOCH passes over our training set\n",
    "        np.Inf, \n",
    "        train_loader, \n",
    "        val_loader, \n",
    "        (encoder, classifier), \n",
    "        hierarchy,\n",
    "        0.05, # Hierarchical loss scaled down to 5%\n",
    "        optimizer,\n",
    "        CHECKPOINT_PATH,\n",
    "        BEST_CHECKPOINT_PATH,\n",
    "    )\n",
    "    x = np.arange(EPOCHS)\n",
    "    fig, ax = plt.subplots()  # Create a figure and an axes.\n",
    "    ax.plot(x, val_metrics[0], label='local accuracy')\n",
    "    ax.plot(x, val_metrics[1], label='local precision')\n",
    "    ax.plot(x, val_metrics[2], label='global accuracy')\n",
    "    ax.plot(x, val_metrics[3], label='global precision')\n",
    "    ax.set_xlabel('epoch')  # Add an x-label to the axes.\n",
    "    ax.set_ylabel('score')  # Add a y-label to the axes.\n",
    "    ax.set_title(\"Accuracy/precision over epochs\")  # Add a title to the axes.\n",
    "    ax.legend()  # Add a legend.\n",
    "    fig.show()\n",
    "  \n",
    "else:\n",
    "    load_path = '{}/{}_{}.pt'.format(folder_name, LOAD_ITERATION, 'best' if LOAD_BEST else 'current')\n",
    "    trained_classifier = load_checkpoint(load_path, classifier)"
   ]
  },
  {
   "cell_type": "code",
   "execution_count": 28,
   "metadata": {},
   "outputs": [
    {
     "data": {
      "application/vnd.jupyter.widget-view+json": {
       "model_id": "befde14e5c864580ae1fc16c6d415ab4",
       "version_major": 2,
       "version_minor": 0
      },
      "text/plain": [
       "  0%|          | 0/730 [00:00<?, ?it/s]"
      ]
     },
     "metadata": {},
     "output_type": "display_data"
    }
   ],
   "source": [
    "test_result = run_model((encoder, trained_classifier), test_loader, hierarchy)"
   ]
  },
  {
   "cell_type": "markdown",
   "metadata": {
    "id": "5-ek2QWfe7SJ"
   },
   "source": [
    "# Evaluation\n",
    "We'll mainly use the leaf prediction in real-world applications to ensure 100% hierarchy matches. However, we'll still test with the global encoding just to see what we are getting."
   ]
  },
  {
   "cell_type": "markdown",
   "metadata": {
    "id": "akEZrGmWb-Wc"
   },
   "source": [
    "## Transform results\n",
    "First, transform the leaf predictions into names so we can have a human-readable view of what's going on."
   ]
  },
  {
   "cell_type": "code",
   "execution_count": 29,
   "metadata": {
    "executionInfo": {
     "elapsed": 370,
     "status": "aborted",
     "timestamp": 1635308378652,
     "user": {
      "displayName": "Khiêm Huỳnh Thiện",
      "photoUrl": "https://lh3.googleusercontent.com/a-/AOh14GiKsMYrfMtAzOaIk6G51GUQwDS0P6dMkGSwN9B_aA=s64",
      "userId": "01825679077701569078"
     },
     "user_tz": -420
    },
    "id": "Hj8hEWTiPL-p"
   },
   "outputs": [
    {
     "name": "stdout",
     "output_type": "stream",
     "text": [
      "(2920, 322) (2920, 322)\n",
      "(2920, 291) (2920, 291)\n"
     ]
    }
   ],
   "source": [
    "# For now, only do that for leaf\n",
    "print(test_result['local_outputs'].shape, test_result['global_outputs'].shape)\n",
    "local_leaf_predictions = test_result['local_outputs'][:, hierarchy.level_offsets[DEPTH-1]:]\n",
    "global_leaf_predictions = test_result['global_outputs'][:, hierarchy.level_offsets[DEPTH-1]:]\n",
    "print(local_leaf_predictions.shape, global_leaf_predictions.shape)"
   ]
  },
  {
   "cell_type": "code",
   "execution_count": 30,
   "metadata": {
    "executionInfo": {
     "elapsed": 371,
     "status": "aborted",
     "timestamp": 1635308378654,
     "user": {
      "displayName": "Khiêm Huỳnh Thiện",
      "photoUrl": "https://lh3.googleusercontent.com/a-/AOh14GiKsMYrfMtAzOaIk6G51GUQwDS0P6dMkGSwN9B_aA=s64",
      "userId": "01825679077701569078"
     },
     "user_tz": -420
    },
    "id": "OZaNbOFZ6jxJ"
   },
   "outputs": [
    {
     "name": "stdout",
     "output_type": "stream",
     "text": [
      "[220 282 279 ... 215 220  64]\n",
      "[220 282 279 ... 215 220  64]\n"
     ]
    }
   ],
   "source": [
    "# global_test_predictions = [retrieve_classes(row, global_categorical.categories) for row in train_result['global_test_outputs']]\n",
    "\n",
    "local_leaf_prediction_codes = np.argmax(local_leaf_predictions, axis=1) + hierarchy.level_offsets[DEPTH-1]\n",
    "global_leaf_prediction_codes = np.argmax(global_leaf_predictions, axis=1) + hierarchy.level_offsets[DEPTH-1]\n",
    "\n",
    "print(local_leaf_prediction_codes)\n",
    "print(global_leaf_prediction_codes)"
   ]
  },
  {
   "cell_type": "markdown",
   "metadata": {
    "id": "D_ipoLI3YD8_"
   },
   "source": [
    "Let's convert that back to strings for human readability, just to make sure we're doing it right:"
   ]
  },
  {
   "cell_type": "code",
   "execution_count": 31,
   "metadata": {
    "executionInfo": {
     "elapsed": 373,
     "status": "aborted",
     "timestamp": 1635308378657,
     "user": {
      "displayName": "Khiêm Huỳnh Thiện",
      "photoUrl": "https://lh3.googleusercontent.com/a-/AOh14GiKsMYrfMtAzOaIk6G51GUQwDS0P6dMkGSwN9B_aA=s64",
      "userId": "01825679077701569078"
     },
     "user_tz": -420
    },
    "id": "wEpyazDEYDeo"
   },
   "outputs": [],
   "source": [
    "local_predicted_leaf_classes = [*map(lambda cat_code: global_categorical.categories[cat_code], local_leaf_prediction_codes)]\n",
    "global_predicted_leaf_classes = [*map(lambda cat_code: global_categorical.categories[cat_code], global_leaf_prediction_codes)]"
   ]
  },
  {
   "cell_type": "markdown",
   "metadata": {
    "id": "_3SmQd25eKzE"
   },
   "source": [
    "Now do the same for the targets:"
   ]
  },
  {
   "cell_type": "code",
   "execution_count": 32,
   "metadata": {
    "executionInfo": {
     "elapsed": 374,
     "status": "aborted",
     "timestamp": 1635308378659,
     "user": {
      "displayName": "Khiêm Huỳnh Thiện",
      "photoUrl": "https://lh3.googleusercontent.com/a-/AOh14GiKsMYrfMtAzOaIk6G51GUQwDS0P6dMkGSwN9B_aA=s64",
      "userId": "01825679077701569078"
     },
     "user_tz": -420
    },
    "id": "6IREITtGeKFG"
   },
   "outputs": [
    {
     "name": "stdout",
     "output_type": "stream",
     "text": [
      "[220 282 150 ... 215 220  64]\n"
     ]
    }
   ],
   "source": [
    "target_leaf_codes = np.argmax(test_result['global_targets'][:, hierarchy.level_offsets[DEPTH-1]:], axis=1) + hierarchy.level_offsets[DEPTH-1]\n",
    "print(target_leaf_codes)\n",
    "\n",
    "target_leaf_classes = global_categorical.categories[target_leaf_codes]"
   ]
  },
  {
   "cell_type": "markdown",
   "metadata": {
    "id": "s9G2JxisYdw4"
   },
   "source": [
    "Visual match-up:"
   ]
  },
  {
   "cell_type": "code",
   "execution_count": 33,
   "metadata": {
    "executionInfo": {
     "elapsed": 376,
     "status": "aborted",
     "timestamp": 1635308378661,
     "user": {
      "displayName": "Khiêm Huỳnh Thiện",
      "photoUrl": "https://lh3.googleusercontent.com/a-/AOh14GiKsMYrfMtAzOaIk6G51GUQwDS0P6dMkGSwN9B_aA=s64",
      "userId": "01825679077701569078"
     },
     "user_tz": -420
    },
    "id": "IuYrBrCiYfzS"
   },
   "outputs": [
    {
     "data": {
      "text/html": [
       "<div>\n",
       "<style scoped>\n",
       "    .dataframe tbody tr th:only-of-type {\n",
       "        vertical-align: middle;\n",
       "    }\n",
       "\n",
       "    .dataframe tbody tr th {\n",
       "        vertical-align: top;\n",
       "    }\n",
       "\n",
       "    .dataframe thead th {\n",
       "        text-align: right;\n",
       "    }\n",
       "</style>\n",
       "<table border=\"1\" class=\"dataframe\">\n",
       "  <thead>\n",
       "    <tr style=\"text-align: right;\">\n",
       "      <th></th>\n",
       "      <th>Locally predicted</th>\n",
       "      <th>Actual</th>\n",
       "      <th>Globally predicted</th>\n",
       "    </tr>\n",
       "  </thead>\n",
       "  <tbody>\n",
       "    <tr>\n",
       "      <th>0</th>\n",
       "      <td>Outdoor Sports</td>\n",
       "      <td>Outdoor Sports</td>\n",
       "      <td>Outdoor Sports</td>\n",
       "    </tr>\n",
       "    <tr>\n",
       "      <th>1</th>\n",
       "      <td>Sports Fan Shop</td>\n",
       "      <td>Sports Fan Shop</td>\n",
       "      <td>Sports Fan Shop</td>\n",
       "    </tr>\n",
       "    <tr>\n",
       "      <th>2</th>\n",
       "      <td>Snacks, Cookies &amp; Chips</td>\n",
       "      <td>Gift Baskets</td>\n",
       "      <td>Snacks, Cookies &amp; Chips</td>\n",
       "    </tr>\n",
       "    <tr>\n",
       "      <th>3</th>\n",
       "      <td>Condiments, Sauces &amp; Spices</td>\n",
       "      <td>Breakfast &amp; Cereal</td>\n",
       "      <td>Baking</td>\n",
       "    </tr>\n",
       "    <tr>\n",
       "      <th>4</th>\n",
       "      <td>Outdoor Sports</td>\n",
       "      <td>Sports</td>\n",
       "      <td>Ear Care</td>\n",
       "    </tr>\n",
       "    <tr>\n",
       "      <th>...</th>\n",
       "      <td>...</td>\n",
       "      <td>...</td>\n",
       "      <td>...</td>\n",
       "    </tr>\n",
       "    <tr>\n",
       "      <th>2915</th>\n",
       "      <td>Outdoor Sports</td>\n",
       "      <td>Shop Toys by Age</td>\n",
       "      <td>Outdoor Sports</td>\n",
       "    </tr>\n",
       "    <tr>\n",
       "      <th>2916</th>\n",
       "      <td>Vitamins &amp; Supplements</td>\n",
       "      <td>Vitamins &amp; Supplements</td>\n",
       "      <td>Vitamins &amp; Supplements</td>\n",
       "    </tr>\n",
       "    <tr>\n",
       "      <th>2917</th>\n",
       "      <td>Oral Care</td>\n",
       "      <td>Oral Care</td>\n",
       "      <td>Oral Care</td>\n",
       "    </tr>\n",
       "    <tr>\n",
       "      <th>2918</th>\n",
       "      <td>Outdoor Sports</td>\n",
       "      <td>Outdoor Sports</td>\n",
       "      <td>Outdoor Sports</td>\n",
       "    </tr>\n",
       "    <tr>\n",
       "      <th>2919</th>\n",
       "      <td>Bath &amp; Body</td>\n",
       "      <td>Bath &amp; Body</td>\n",
       "      <td>Bath &amp; Body</td>\n",
       "    </tr>\n",
       "  </tbody>\n",
       "</table>\n",
       "<p>2920 rows × 3 columns</p>\n",
       "</div>"
      ],
      "text/plain": [
       "                Locally predicted                  Actual  \\\n",
       "0                  Outdoor Sports          Outdoor Sports   \n",
       "1                 Sports Fan Shop         Sports Fan Shop   \n",
       "2         Snacks, Cookies & Chips            Gift Baskets   \n",
       "3     Condiments, Sauces & Spices      Breakfast & Cereal   \n",
       "4                  Outdoor Sports                  Sports   \n",
       "...                           ...                     ...   \n",
       "2915               Outdoor Sports        Shop Toys by Age   \n",
       "2916       Vitamins & Supplements  Vitamins & Supplements   \n",
       "2917                    Oral Care               Oral Care   \n",
       "2918               Outdoor Sports          Outdoor Sports   \n",
       "2919                  Bath & Body             Bath & Body   \n",
       "\n",
       "           Globally predicted  \n",
       "0              Outdoor Sports  \n",
       "1             Sports Fan Shop  \n",
       "2     Snacks, Cookies & Chips  \n",
       "3                      Baking  \n",
       "4                    Ear Care  \n",
       "...                       ...  \n",
       "2915           Outdoor Sports  \n",
       "2916   Vitamins & Supplements  \n",
       "2917                Oral Care  \n",
       "2918           Outdoor Sports  \n",
       "2919              Bath & Body  \n",
       "\n",
       "[2920 rows x 3 columns]"
      ]
     },
     "execution_count": 33,
     "metadata": {},
     "output_type": "execute_result"
    }
   ],
   "source": [
    "comp_df = pd.DataFrame({'Locally predicted': local_predicted_leaf_classes, 'Actual': target_leaf_classes, 'Globally predicted': global_predicted_leaf_classes})\n",
    "comp_df"
   ]
  },
  {
   "cell_type": "markdown",
   "metadata": {
    "id": "1u4iHcxiV_Z9"
   },
   "source": [
    "## Metrics"
   ]
  },
  {
   "cell_type": "code",
   "execution_count": 34,
   "metadata": {
    "executionInfo": {
     "elapsed": 378,
     "status": "aborted",
     "timestamp": 1635308378663,
     "user": {
      "displayName": "Khiêm Huỳnh Thiện",
      "photoUrl": "https://lh3.googleusercontent.com/a-/AOh14GiKsMYrfMtAzOaIk6G51GUQwDS0P6dMkGSwN9B_aA=s64",
      "userId": "01825679077701569078"
     },
     "user_tz": -420
    },
    "id": "R59W-Q_he8di"
   },
   "outputs": [
    {
     "name": "stdout",
     "output_type": "stream",
     "text": [
      "Local leaf level accuracy:\n",
      "Accuracy: 0.5952054794520548\n",
      "Precision: 0.7148997738534132\n",
      "\n",
      "Global leaf level accuracy:\n",
      "Accuracy: 0.6256849315068493\n",
      "Precision: 0.7090259868052903\n",
      "\n",
      "\n"
     ]
    },
    {
     "name": "stderr",
     "output_type": "stream",
     "text": [
      "/usr/lib/python3.9/site-packages/sklearn/metrics/_classification.py:1308: UndefinedMetricWarning: Precision is ill-defined and being set to 0.0 in labels with no predicted samples. Use `zero_division` parameter to control this behavior.\n",
      "  _warn_prf(average, modifier, msg_start, len(result))\n"
     ]
    },
    {
     "name": "stdout",
     "output_type": "stream",
     "text": [
      "Rectified leaf-level AU(PRC) score: 0.7588401439163727\n"
     ]
    }
   ],
   "source": [
    "get_metrics(test_result['local_outputs'], test_result['global_outputs'], test_result['global_targets'], hierarchy)\n",
    "\n",
    "# Rectified leaf AU(PRC) due to an sklearn bug.\n",
    "# We add one artificial example that belongs to all classes at once and a corresponding prediction\n",
    "# full of true positives. This way each class has at least one true positive, even if the test set\n",
    "# does not contain enough examples to cover all classes.\n",
    "rectified_outputs = np.concatenate([test_result['global_outputs'][:, hierarchy.level_offsets[-2]:], np.ones((1, hierarchy.levels[-1]))], axis=0)\n",
    "rectified_targets = np.concatenate([test_result['global_targets'][:, hierarchy.level_offsets[-2]:], np.ones((1, hierarchy.levels[-1]), dtype=bool)], axis=0)\n",
    "\n",
    "print('\\n')\n",
    "print('Rectified leaf-level AU(PRC) score:', metrics.average_precision_score(rectified_targets, rectified_outputs))"
   ]
  },
  {
   "cell_type": "markdown",
   "metadata": {
    "id": "KJ3qX2ZaAJkT"
   },
   "source": [
    "# Past results\n",
    "- `_1`: Equal to `_9` in Walmart_Marketing. However, we now use 10% validation 10% test instead of 20% test.\n",
    "\n",
    "```\n",
    "```"
   ]
  }
 ],
 "metadata": {
  "accelerator": "GPU",
  "colab": {
   "collapsed_sections": [],
   "name": "Amazon_Electronics_BERT_HMCN-F_title_hierarchical.ipynb",
   "provenance": [
    {
     "file_id": "1XH71XbNfkOyYkVwthbl_Mnt9YN0hwUv2",
     "timestamp": 1633613457791
    }
   ]
  },
  "kernelspec": {
   "display_name": "Python 3 (ipykernel)",
   "language": "python",
   "name": "python3"
  },
  "language_info": {
   "codemirror_mode": {
    "name": "ipython",
    "version": 3
   },
   "file_extension": ".py",
   "mimetype": "text/x-python",
   "name": "python",
   "nbconvert_exporter": "python",
   "pygments_lexer": "ipython3",
   "version": "3.9.9"
  },
  "widgets": {
   "application/vnd.jupyter.widget-state+json": {
    "06622e52beb544b7a2b464d1de0902a1": {
     "model_module": "@jupyter-widgets/base",
     "model_module_version": "1.2.0",
     "model_name": "LayoutModel",
     "state": {
      "_model_module": "@jupyter-widgets/base",
      "_model_module_version": "1.2.0",
      "_model_name": "LayoutModel",
      "_view_count": null,
      "_view_module": "@jupyter-widgets/base",
      "_view_module_version": "1.2.0",
      "_view_name": "LayoutView",
      "align_content": null,
      "align_items": null,
      "align_self": null,
      "border": null,
      "bottom": null,
      "display": null,
      "flex": null,
      "flex_flow": null,
      "grid_area": null,
      "grid_auto_columns": null,
      "grid_auto_flow": null,
      "grid_auto_rows": null,
      "grid_column": null,
      "grid_gap": null,
      "grid_row": null,
      "grid_template_areas": null,
      "grid_template_columns": null,
      "grid_template_rows": null,
      "height": null,
      "justify_content": null,
      "justify_items": null,
      "left": null,
      "margin": null,
      "max_height": null,
      "max_width": null,
      "min_height": null,
      "min_width": null,
      "object_fit": null,
      "object_position": null,
      "order": null,
      "overflow": null,
      "overflow_x": null,
      "overflow_y": null,
      "padding": null,
      "right": null,
      "top": null,
      "visibility": null,
      "width": null
     }
    },
    "09d6a6951d0647dcb714bc95d13c7036": {
     "model_module": "@jupyter-widgets/controls",
     "model_module_version": "1.5.0",
     "model_name": "ProgressStyleModel",
     "state": {
      "_model_module": "@jupyter-widgets/controls",
      "_model_module_version": "1.5.0",
      "_model_name": "ProgressStyleModel",
      "_view_count": null,
      "_view_module": "@jupyter-widgets/base",
      "_view_module_version": "1.2.0",
      "_view_name": "StyleView",
      "bar_color": null,
      "description_width": ""
     }
    },
    "1093cda242734ed68f90ef8113ed2382": {
     "model_module": "@jupyter-widgets/controls",
     "model_module_version": "1.5.0",
     "model_name": "HTMLModel",
     "state": {
      "_dom_classes": [],
      "_model_module": "@jupyter-widgets/controls",
      "_model_module_version": "1.5.0",
      "_model_name": "HTMLModel",
      "_view_count": null,
      "_view_module": "@jupyter-widgets/controls",
      "_view_module_version": "1.5.0",
      "_view_name": "HTMLView",
      "description": "",
      "description_tooltip": null,
      "layout": "IPY_MODEL_83ff5a1fcc5e40b19dba8346d43e57e0",
      "placeholder": "​",
      "style": "IPY_MODEL_205ba318b331401e8f8d66e532caa13f",
      "value": " 455k/455k [00:00&lt;00:00, 1.09MB/s]"
     }
    },
    "11294eb27f9a44599f1943202d83d956": {
     "model_module": "@jupyter-widgets/base",
     "model_module_version": "1.2.0",
     "model_name": "LayoutModel",
     "state": {
      "_model_module": "@jupyter-widgets/base",
      "_model_module_version": "1.2.0",
      "_model_name": "LayoutModel",
      "_view_count": null,
      "_view_module": "@jupyter-widgets/base",
      "_view_module_version": "1.2.0",
      "_view_name": "LayoutView",
      "align_content": null,
      "align_items": null,
      "align_self": null,
      "border": null,
      "bottom": null,
      "display": null,
      "flex": null,
      "flex_flow": null,
      "grid_area": null,
      "grid_auto_columns": null,
      "grid_auto_flow": null,
      "grid_auto_rows": null,
      "grid_column": null,
      "grid_gap": null,
      "grid_row": null,
      "grid_template_areas": null,
      "grid_template_columns": null,
      "grid_template_rows": null,
      "height": null,
      "justify_content": null,
      "justify_items": null,
      "left": null,
      "margin": null,
      "max_height": null,
      "max_width": null,
      "min_height": null,
      "min_width": null,
      "object_fit": null,
      "object_position": null,
      "order": null,
      "overflow": null,
      "overflow_x": null,
      "overflow_y": null,
      "padding": null,
      "right": null,
      "top": null,
      "visibility": null,
      "width": null
     }
    },
    "1582c4067b56485b9366b146d357f5e4": {
     "model_module": "@jupyter-widgets/controls",
     "model_module_version": "1.5.0",
     "model_name": "ProgressStyleModel",
     "state": {
      "_model_module": "@jupyter-widgets/controls",
      "_model_module_version": "1.5.0",
      "_model_name": "ProgressStyleModel",
      "_view_count": null,
      "_view_module": "@jupyter-widgets/base",
      "_view_module_version": "1.2.0",
      "_view_name": "StyleView",
      "bar_color": null,
      "description_width": ""
     }
    },
    "1b2acc83686d4baf9768c19e68e08d31": {
     "model_module": "@jupyter-widgets/controls",
     "model_module_version": "1.5.0",
     "model_name": "FloatProgressModel",
     "state": {
      "_dom_classes": [],
      "_model_module": "@jupyter-widgets/controls",
      "_model_module_version": "1.5.0",
      "_model_name": "FloatProgressModel",
      "_view_count": null,
      "_view_module": "@jupyter-widgets/controls",
      "_view_module_version": "1.5.0",
      "_view_name": "ProgressView",
      "bar_style": "success",
      "description": "",
      "description_tooltip": null,
      "layout": "IPY_MODEL_8d4e5e118a55491a919f21304ca2d551",
      "max": 28,
      "min": 0,
      "orientation": "horizontal",
      "style": "IPY_MODEL_4778017f533d4360bce2a5d6b8a5b6cc",
      "value": 28
     }
    },
    "205ba318b331401e8f8d66e532caa13f": {
     "model_module": "@jupyter-widgets/controls",
     "model_module_version": "1.5.0",
     "model_name": "DescriptionStyleModel",
     "state": {
      "_model_module": "@jupyter-widgets/controls",
      "_model_module_version": "1.5.0",
      "_model_name": "DescriptionStyleModel",
      "_view_count": null,
      "_view_module": "@jupyter-widgets/base",
      "_view_module_version": "1.2.0",
      "_view_name": "StyleView",
      "description_width": ""
     }
    },
    "255c8c0083c040a188e98fea8afed4e0": {
     "model_module": "@jupyter-widgets/base",
     "model_module_version": "1.2.0",
     "model_name": "LayoutModel",
     "state": {
      "_model_module": "@jupyter-widgets/base",
      "_model_module_version": "1.2.0",
      "_model_name": "LayoutModel",
      "_view_count": null,
      "_view_module": "@jupyter-widgets/base",
      "_view_module_version": "1.2.0",
      "_view_name": "LayoutView",
      "align_content": null,
      "align_items": null,
      "align_self": null,
      "border": null,
      "bottom": null,
      "display": null,
      "flex": null,
      "flex_flow": null,
      "grid_area": null,
      "grid_auto_columns": null,
      "grid_auto_flow": null,
      "grid_auto_rows": null,
      "grid_column": null,
      "grid_gap": null,
      "grid_row": null,
      "grid_template_areas": null,
      "grid_template_columns": null,
      "grid_template_rows": null,
      "height": null,
      "justify_content": null,
      "justify_items": null,
      "left": null,
      "margin": null,
      "max_height": null,
      "max_width": null,
      "min_height": null,
      "min_width": null,
      "object_fit": null,
      "object_position": null,
      "order": null,
      "overflow": null,
      "overflow_x": null,
      "overflow_y": null,
      "padding": null,
      "right": null,
      "top": null,
      "visibility": null,
      "width": null
     }
    },
    "34e07de58f3a4b7ea2224d8a496e869e": {
     "model_module": "@jupyter-widgets/base",
     "model_module_version": "1.2.0",
     "model_name": "LayoutModel",
     "state": {
      "_model_module": "@jupyter-widgets/base",
      "_model_module_version": "1.2.0",
      "_model_name": "LayoutModel",
      "_view_count": null,
      "_view_module": "@jupyter-widgets/base",
      "_view_module_version": "1.2.0",
      "_view_name": "LayoutView",
      "align_content": null,
      "align_items": null,
      "align_self": null,
      "border": null,
      "bottom": null,
      "display": null,
      "flex": null,
      "flex_flow": null,
      "grid_area": null,
      "grid_auto_columns": null,
      "grid_auto_flow": null,
      "grid_auto_rows": null,
      "grid_column": null,
      "grid_gap": null,
      "grid_row": null,
      "grid_template_areas": null,
      "grid_template_columns": null,
      "grid_template_rows": null,
      "height": null,
      "justify_content": null,
      "justify_items": null,
      "left": null,
      "margin": null,
      "max_height": null,
      "max_width": null,
      "min_height": null,
      "min_width": null,
      "object_fit": null,
      "object_position": null,
      "order": null,
      "overflow": null,
      "overflow_x": null,
      "overflow_y": null,
      "padding": null,
      "right": null,
      "top": null,
      "visibility": null,
      "width": null
     }
    },
    "37039050ba0d48498777046a7b5098bc": {
     "model_module": "@jupyter-widgets/base",
     "model_module_version": "1.2.0",
     "model_name": "LayoutModel",
     "state": {
      "_model_module": "@jupyter-widgets/base",
      "_model_module_version": "1.2.0",
      "_model_name": "LayoutModel",
      "_view_count": null,
      "_view_module": "@jupyter-widgets/base",
      "_view_module_version": "1.2.0",
      "_view_name": "LayoutView",
      "align_content": null,
      "align_items": null,
      "align_self": null,
      "border": null,
      "bottom": null,
      "display": null,
      "flex": null,
      "flex_flow": null,
      "grid_area": null,
      "grid_auto_columns": null,
      "grid_auto_flow": null,
      "grid_auto_rows": null,
      "grid_column": null,
      "grid_gap": null,
      "grid_row": null,
      "grid_template_areas": null,
      "grid_template_columns": null,
      "grid_template_rows": null,
      "height": null,
      "justify_content": null,
      "justify_items": null,
      "left": null,
      "margin": null,
      "max_height": null,
      "max_width": null,
      "min_height": null,
      "min_width": null,
      "object_fit": null,
      "object_position": null,
      "order": null,
      "overflow": null,
      "overflow_x": null,
      "overflow_y": null,
      "padding": null,
      "right": null,
      "top": null,
      "visibility": null,
      "width": null
     }
    },
    "3be0b068814c4625a8a26aaae6246fc5": {
     "model_module": "@jupyter-widgets/controls",
     "model_module_version": "1.5.0",
     "model_name": "HTMLModel",
     "state": {
      "_dom_classes": [],
      "_model_module": "@jupyter-widgets/controls",
      "_model_module_version": "1.5.0",
      "_model_name": "HTMLModel",
      "_view_count": null,
      "_view_module": "@jupyter-widgets/controls",
      "_view_module_version": "1.5.0",
      "_view_name": "HTMLView",
      "description": "",
      "description_tooltip": null,
      "layout": "IPY_MODEL_9cf4df1b32a641118d1ec674040af9b6",
      "placeholder": "​",
      "style": "IPY_MODEL_bcfe3b9cc0a84a71a23fe066e9f91f50",
      "value": "Downloading: 100%"
     }
    },
    "3bf6825b7c0a4d75a5b6340575af92b7": {
     "model_module": "@jupyter-widgets/controls",
     "model_module_version": "1.5.0",
     "model_name": "HBoxModel",
     "state": {
      "_dom_classes": [],
      "_model_module": "@jupyter-widgets/controls",
      "_model_module_version": "1.5.0",
      "_model_name": "HBoxModel",
      "_view_count": null,
      "_view_module": "@jupyter-widgets/controls",
      "_view_module_version": "1.5.0",
      "_view_name": "HBoxView",
      "box_style": "",
      "children": [
       "IPY_MODEL_3be0b068814c4625a8a26aaae6246fc5",
       "IPY_MODEL_e83112deff534d02b02dab80d89f4c13",
       "IPY_MODEL_8b59a1c8120d400285775ab9c7bf5fd0"
      ],
      "layout": "IPY_MODEL_d67011f140984c90bcb2e5897e9cfec7"
     }
    },
    "3ed89d90b8d042d2b62f8f24711000df": {
     "model_module": "@jupyter-widgets/controls",
     "model_module_version": "1.5.0",
     "model_name": "HTMLModel",
     "state": {
      "_dom_classes": [],
      "_model_module": "@jupyter-widgets/controls",
      "_model_module_version": "1.5.0",
      "_model_name": "HTMLModel",
      "_view_count": null,
      "_view_module": "@jupyter-widgets/controls",
      "_view_module_version": "1.5.0",
      "_view_name": "HTMLView",
      "description": "",
      "description_tooltip": null,
      "layout": "IPY_MODEL_ef35c644d0824d529a22bed78aac1ab6",
      "placeholder": "​",
      "style": "IPY_MODEL_64b1d8be1d114100b7ae1cb42bcb3425",
      "value": " 120406/120406 [2:07:24&lt;00:00, 15.76it/s]"
     }
    },
    "41ca3ed1ee364d9fb3ef06cc54abb557": {
     "model_module": "@jupyter-widgets/controls",
     "model_module_version": "1.5.0",
     "model_name": "DescriptionStyleModel",
     "state": {
      "_model_module": "@jupyter-widgets/controls",
      "_model_module_version": "1.5.0",
      "_model_name": "DescriptionStyleModel",
      "_view_count": null,
      "_view_module": "@jupyter-widgets/base",
      "_view_module_version": "1.2.0",
      "_view_name": "StyleView",
      "description_width": ""
     }
    },
    "4778017f533d4360bce2a5d6b8a5b6cc": {
     "model_module": "@jupyter-widgets/controls",
     "model_module_version": "1.5.0",
     "model_name": "ProgressStyleModel",
     "state": {
      "_model_module": "@jupyter-widgets/controls",
      "_model_module_version": "1.5.0",
      "_model_name": "ProgressStyleModel",
      "_view_count": null,
      "_view_module": "@jupyter-widgets/base",
      "_view_module_version": "1.2.0",
      "_view_name": "StyleView",
      "bar_color": null,
      "description_width": ""
     }
    },
    "480f7683750f4c8da678a997d1b6fce0": {
     "model_module": "@jupyter-widgets/controls",
     "model_module_version": "1.5.0",
     "model_name": "HTMLModel",
     "state": {
      "_dom_classes": [],
      "_model_module": "@jupyter-widgets/controls",
      "_model_module_version": "1.5.0",
      "_model_name": "HTMLModel",
      "_view_count": null,
      "_view_module": "@jupyter-widgets/controls",
      "_view_module_version": "1.5.0",
      "_view_name": "HTMLView",
      "description": "",
      "description_tooltip": null,
      "layout": "IPY_MODEL_ad1dc10ec89e4e4fb92c87e1d900ba98",
      "placeholder": "​",
      "style": "IPY_MODEL_6302b6fb6b22452999336c113b677dc4",
      "value": "Downloading: 100%"
     }
    },
    "49c2b1ce77694e378d0fdb66b1c56404": {
     "model_module": "@jupyter-widgets/controls",
     "model_module_version": "1.5.0",
     "model_name": "DescriptionStyleModel",
     "state": {
      "_model_module": "@jupyter-widgets/controls",
      "_model_module_version": "1.5.0",
      "_model_name": "DescriptionStyleModel",
      "_view_count": null,
      "_view_module": "@jupyter-widgets/base",
      "_view_module_version": "1.2.0",
      "_view_name": "StyleView",
      "description_width": ""
     }
    },
    "4ff872907c104e5da154a1980ebee4a8": {
     "model_module": "@jupyter-widgets/controls",
     "model_module_version": "1.5.0",
     "model_name": "HTMLModel",
     "state": {
      "_dom_classes": [],
      "_model_module": "@jupyter-widgets/controls",
      "_model_module_version": "1.5.0",
      "_model_name": "HTMLModel",
      "_view_count": null,
      "_view_module": "@jupyter-widgets/controls",
      "_view_module_version": "1.5.0",
      "_view_name": "HTMLView",
      "description": "",
      "description_tooltip": null,
      "layout": "IPY_MODEL_ef1169b0d36e4f37af27ddf2a3f2c69c",
      "placeholder": "​",
      "style": "IPY_MODEL_a4d30ceda14f47d6a3c05f9be708a3b9",
      "value": " 256M/256M [00:09&lt;00:00, 28.2MB/s]"
     }
    },
    "5359a706b7d04c81b9919471f7f4e275": {
     "model_module": "@jupyter-widgets/controls",
     "model_module_version": "1.5.0",
     "model_name": "DescriptionStyleModel",
     "state": {
      "_model_module": "@jupyter-widgets/controls",
      "_model_module_version": "1.5.0",
      "_model_name": "DescriptionStyleModel",
      "_view_count": null,
      "_view_module": "@jupyter-widgets/base",
      "_view_module_version": "1.2.0",
      "_view_name": "StyleView",
      "description_width": ""
     }
    },
    "56946bff74cc485797ed6b3498203651": {
     "model_module": "@jupyter-widgets/base",
     "model_module_version": "1.2.0",
     "model_name": "LayoutModel",
     "state": {
      "_model_module": "@jupyter-widgets/base",
      "_model_module_version": "1.2.0",
      "_model_name": "LayoutModel",
      "_view_count": null,
      "_view_module": "@jupyter-widgets/base",
      "_view_module_version": "1.2.0",
      "_view_name": "LayoutView",
      "align_content": null,
      "align_items": null,
      "align_self": null,
      "border": null,
      "bottom": null,
      "display": null,
      "flex": null,
      "flex_flow": null,
      "grid_area": null,
      "grid_auto_columns": null,
      "grid_auto_flow": null,
      "grid_auto_rows": null,
      "grid_column": null,
      "grid_gap": null,
      "grid_row": null,
      "grid_template_areas": null,
      "grid_template_columns": null,
      "grid_template_rows": null,
      "height": null,
      "justify_content": null,
      "justify_items": null,
      "left": null,
      "margin": null,
      "max_height": null,
      "max_width": null,
      "min_height": null,
      "min_width": null,
      "object_fit": null,
      "object_position": null,
      "order": null,
      "overflow": null,
      "overflow_x": null,
      "overflow_y": null,
      "padding": null,
      "right": null,
      "top": null,
      "visibility": null,
      "width": null
     }
    },
    "56dbdd9ba90042a1a7ba7075226a6a44": {
     "model_module": "@jupyter-widgets/controls",
     "model_module_version": "1.5.0",
     "model_name": "FloatProgressModel",
     "state": {
      "_dom_classes": [],
      "_model_module": "@jupyter-widgets/controls",
      "_model_module_version": "1.5.0",
      "_model_name": "FloatProgressModel",
      "_view_count": null,
      "_view_module": "@jupyter-widgets/controls",
      "_view_module_version": "1.5.0",
      "_view_name": "ProgressView",
      "bar_style": "success",
      "description": "",
      "description_tooltip": null,
      "layout": "IPY_MODEL_d456c732a7934f4780a4e26adebe5d82",
      "max": 120406,
      "min": 0,
      "orientation": "horizontal",
      "style": "IPY_MODEL_a356d74e3e1e46d08524c177fdab0c42",
      "value": 120406
     }
    },
    "5717f1f6da554c83863f1fd513c76dc0": {
     "model_module": "@jupyter-widgets/controls",
     "model_module_version": "1.5.0",
     "model_name": "HTMLModel",
     "state": {
      "_dom_classes": [],
      "_model_module": "@jupyter-widgets/controls",
      "_model_module_version": "1.5.0",
      "_model_name": "HTMLModel",
      "_view_count": null,
      "_view_module": "@jupyter-widgets/controls",
      "_view_module_version": "1.5.0",
      "_view_name": "HTMLView",
      "description": "",
      "description_tooltip": null,
      "layout": "IPY_MODEL_5b86bf4432244410b98d9f9d6b5fc676",
      "placeholder": "​",
      "style": "IPY_MODEL_41ca3ed1ee364d9fb3ef06cc54abb557",
      "value": "Downloading: 100%"
     }
    },
    "57f935dcbcb047d787a6fe1e99cd51f2": {
     "model_module": "@jupyter-widgets/base",
     "model_module_version": "1.2.0",
     "model_name": "LayoutModel",
     "state": {
      "_model_module": "@jupyter-widgets/base",
      "_model_module_version": "1.2.0",
      "_model_name": "LayoutModel",
      "_view_count": null,
      "_view_module": "@jupyter-widgets/base",
      "_view_module_version": "1.2.0",
      "_view_name": "LayoutView",
      "align_content": null,
      "align_items": null,
      "align_self": null,
      "border": null,
      "bottom": null,
      "display": null,
      "flex": null,
      "flex_flow": null,
      "grid_area": null,
      "grid_auto_columns": null,
      "grid_auto_flow": null,
      "grid_auto_rows": null,
      "grid_column": null,
      "grid_gap": null,
      "grid_row": null,
      "grid_template_areas": null,
      "grid_template_columns": null,
      "grid_template_rows": null,
      "height": null,
      "justify_content": null,
      "justify_items": null,
      "left": null,
      "margin": null,
      "max_height": null,
      "max_width": null,
      "min_height": null,
      "min_width": null,
      "object_fit": null,
      "object_position": null,
      "order": null,
      "overflow": null,
      "overflow_x": null,
      "overflow_y": null,
      "padding": null,
      "right": null,
      "top": null,
      "visibility": null,
      "width": null
     }
    },
    "5b86bf4432244410b98d9f9d6b5fc676": {
     "model_module": "@jupyter-widgets/base",
     "model_module_version": "1.2.0",
     "model_name": "LayoutModel",
     "state": {
      "_model_module": "@jupyter-widgets/base",
      "_model_module_version": "1.2.0",
      "_model_name": "LayoutModel",
      "_view_count": null,
      "_view_module": "@jupyter-widgets/base",
      "_view_module_version": "1.2.0",
      "_view_name": "LayoutView",
      "align_content": null,
      "align_items": null,
      "align_self": null,
      "border": null,
      "bottom": null,
      "display": null,
      "flex": null,
      "flex_flow": null,
      "grid_area": null,
      "grid_auto_columns": null,
      "grid_auto_flow": null,
      "grid_auto_rows": null,
      "grid_column": null,
      "grid_gap": null,
      "grid_row": null,
      "grid_template_areas": null,
      "grid_template_columns": null,
      "grid_template_rows": null,
      "height": null,
      "justify_content": null,
      "justify_items": null,
      "left": null,
      "margin": null,
      "max_height": null,
      "max_width": null,
      "min_height": null,
      "min_width": null,
      "object_fit": null,
      "object_position": null,
      "order": null,
      "overflow": null,
      "overflow_x": null,
      "overflow_y": null,
      "padding": null,
      "right": null,
      "top": null,
      "visibility": null,
      "width": null
     }
    },
    "6302b6fb6b22452999336c113b677dc4": {
     "model_module": "@jupyter-widgets/controls",
     "model_module_version": "1.5.0",
     "model_name": "DescriptionStyleModel",
     "state": {
      "_model_module": "@jupyter-widgets/controls",
      "_model_module_version": "1.5.0",
      "_model_name": "DescriptionStyleModel",
      "_view_count": null,
      "_view_module": "@jupyter-widgets/base",
      "_view_module_version": "1.2.0",
      "_view_name": "StyleView",
      "description_width": ""
     }
    },
    "64b1d8be1d114100b7ae1cb42bcb3425": {
     "model_module": "@jupyter-widgets/controls",
     "model_module_version": "1.5.0",
     "model_name": "DescriptionStyleModel",
     "state": {
      "_model_module": "@jupyter-widgets/controls",
      "_model_module_version": "1.5.0",
      "_model_name": "DescriptionStyleModel",
      "_view_count": null,
      "_view_module": "@jupyter-widgets/base",
      "_view_module_version": "1.2.0",
      "_view_name": "StyleView",
      "description_width": ""
     }
    },
    "6749900841aa464ebcf3f3d56a24e4f0": {
     "model_module": "@jupyter-widgets/base",
     "model_module_version": "1.2.0",
     "model_name": "LayoutModel",
     "state": {
      "_model_module": "@jupyter-widgets/base",
      "_model_module_version": "1.2.0",
      "_model_name": "LayoutModel",
      "_view_count": null,
      "_view_module": "@jupyter-widgets/base",
      "_view_module_version": "1.2.0",
      "_view_name": "LayoutView",
      "align_content": null,
      "align_items": null,
      "align_self": null,
      "border": null,
      "bottom": null,
      "display": null,
      "flex": null,
      "flex_flow": null,
      "grid_area": null,
      "grid_auto_columns": null,
      "grid_auto_flow": null,
      "grid_auto_rows": null,
      "grid_column": null,
      "grid_gap": null,
      "grid_row": null,
      "grid_template_areas": null,
      "grid_template_columns": null,
      "grid_template_rows": null,
      "height": null,
      "justify_content": null,
      "justify_items": null,
      "left": null,
      "margin": null,
      "max_height": null,
      "max_width": null,
      "min_height": null,
      "min_width": null,
      "object_fit": null,
      "object_position": null,
      "order": null,
      "overflow": null,
      "overflow_x": null,
      "overflow_y": null,
      "padding": null,
      "right": null,
      "top": null,
      "visibility": null,
      "width": null
     }
    },
    "71467b9c601b42caa956b933644df950": {
     "model_module": "@jupyter-widgets/controls",
     "model_module_version": "1.5.0",
     "model_name": "HTMLModel",
     "state": {
      "_dom_classes": [],
      "_model_module": "@jupyter-widgets/controls",
      "_model_module_version": "1.5.0",
      "_model_name": "HTMLModel",
      "_view_count": null,
      "_view_module": "@jupyter-widgets/controls",
      "_view_module_version": "1.5.0",
      "_view_name": "HTMLView",
      "description": "",
      "description_tooltip": null,
      "layout": "IPY_MODEL_883563031f904e81b0ccf7ebc20d912a",
      "placeholder": "​",
      "style": "IPY_MODEL_bb83648a87c3446c92bb5052ef6847f1",
      "value": "Downloading: 100%"
     }
    },
    "73db3abf8a5c4a14bb9e3c857b0cd73a": {
     "model_module": "@jupyter-widgets/controls",
     "model_module_version": "1.5.0",
     "model_name": "FloatProgressModel",
     "state": {
      "_dom_classes": [],
      "_model_module": "@jupyter-widgets/controls",
      "_model_module_version": "1.5.0",
      "_model_name": "FloatProgressModel",
      "_view_count": null,
      "_view_module": "@jupyter-widgets/controls",
      "_view_module_version": "1.5.0",
      "_view_name": "ProgressView",
      "bar_style": "success",
      "description": "",
      "description_tooltip": null,
      "layout": "IPY_MODEL_57f935dcbcb047d787a6fe1e99cd51f2",
      "max": 267967963,
      "min": 0,
      "orientation": "horizontal",
      "style": "IPY_MODEL_ff63f13c42194f70ba8c6e04d907b11b",
      "value": 267967963
     }
    },
    "7512c7bbac2b4a8a86e6759f3bbbc2b8": {
     "model_module": "@jupyter-widgets/controls",
     "model_module_version": "1.5.0",
     "model_name": "HBoxModel",
     "state": {
      "_dom_classes": [],
      "_model_module": "@jupyter-widgets/controls",
      "_model_module_version": "1.5.0",
      "_model_name": "HBoxModel",
      "_view_count": null,
      "_view_module": "@jupyter-widgets/controls",
      "_view_module_version": "1.5.0",
      "_view_name": "HBoxView",
      "box_style": "",
      "children": [
       "IPY_MODEL_bfa45769c90c4e50829b7bba9c673531",
       "IPY_MODEL_56dbdd9ba90042a1a7ba7075226a6a44",
       "IPY_MODEL_3ed89d90b8d042d2b62f8f24711000df"
      ],
      "layout": "IPY_MODEL_a36dc39df13c4fb6b06210e9f7d4e5cb"
     }
    },
    "76ecfa0377a9483db59cf4f3f8210f77": {
     "model_module": "@jupyter-widgets/base",
     "model_module_version": "1.2.0",
     "model_name": "LayoutModel",
     "state": {
      "_model_module": "@jupyter-widgets/base",
      "_model_module_version": "1.2.0",
      "_model_name": "LayoutModel",
      "_view_count": null,
      "_view_module": "@jupyter-widgets/base",
      "_view_module_version": "1.2.0",
      "_view_name": "LayoutView",
      "align_content": null,
      "align_items": null,
      "align_self": null,
      "border": null,
      "bottom": null,
      "display": null,
      "flex": null,
      "flex_flow": null,
      "grid_area": null,
      "grid_auto_columns": null,
      "grid_auto_flow": null,
      "grid_auto_rows": null,
      "grid_column": null,
      "grid_gap": null,
      "grid_row": null,
      "grid_template_areas": null,
      "grid_template_columns": null,
      "grid_template_rows": null,
      "height": null,
      "justify_content": null,
      "justify_items": null,
      "left": null,
      "margin": null,
      "max_height": null,
      "max_width": null,
      "min_height": null,
      "min_width": null,
      "object_fit": null,
      "object_position": null,
      "order": null,
      "overflow": null,
      "overflow_x": null,
      "overflow_y": null,
      "padding": null,
      "right": null,
      "top": null,
      "visibility": null,
      "width": null
     }
    },
    "7e4105fcbc1148dba4cfe534c7a8e075": {
     "model_module": "@jupyter-widgets/base",
     "model_module_version": "1.2.0",
     "model_name": "LayoutModel",
     "state": {
      "_model_module": "@jupyter-widgets/base",
      "_model_module_version": "1.2.0",
      "_model_name": "LayoutModel",
      "_view_count": null,
      "_view_module": "@jupyter-widgets/base",
      "_view_module_version": "1.2.0",
      "_view_name": "LayoutView",
      "align_content": null,
      "align_items": null,
      "align_self": null,
      "border": null,
      "bottom": null,
      "display": null,
      "flex": null,
      "flex_flow": null,
      "grid_area": null,
      "grid_auto_columns": null,
      "grid_auto_flow": null,
      "grid_auto_rows": null,
      "grid_column": null,
      "grid_gap": null,
      "grid_row": null,
      "grid_template_areas": null,
      "grid_template_columns": null,
      "grid_template_rows": null,
      "height": null,
      "justify_content": null,
      "justify_items": null,
      "left": null,
      "margin": null,
      "max_height": null,
      "max_width": null,
      "min_height": null,
      "min_width": null,
      "object_fit": null,
      "object_position": null,
      "order": null,
      "overflow": null,
      "overflow_x": null,
      "overflow_y": null,
      "padding": null,
      "right": null,
      "top": null,
      "visibility": null,
      "width": null
     }
    },
    "83ff5a1fcc5e40b19dba8346d43e57e0": {
     "model_module": "@jupyter-widgets/base",
     "model_module_version": "1.2.0",
     "model_name": "LayoutModel",
     "state": {
      "_model_module": "@jupyter-widgets/base",
      "_model_module_version": "1.2.0",
      "_model_name": "LayoutModel",
      "_view_count": null,
      "_view_module": "@jupyter-widgets/base",
      "_view_module_version": "1.2.0",
      "_view_name": "LayoutView",
      "align_content": null,
      "align_items": null,
      "align_self": null,
      "border": null,
      "bottom": null,
      "display": null,
      "flex": null,
      "flex_flow": null,
      "grid_area": null,
      "grid_auto_columns": null,
      "grid_auto_flow": null,
      "grid_auto_rows": null,
      "grid_column": null,
      "grid_gap": null,
      "grid_row": null,
      "grid_template_areas": null,
      "grid_template_columns": null,
      "grid_template_rows": null,
      "height": null,
      "justify_content": null,
      "justify_items": null,
      "left": null,
      "margin": null,
      "max_height": null,
      "max_width": null,
      "min_height": null,
      "min_width": null,
      "object_fit": null,
      "object_position": null,
      "order": null,
      "overflow": null,
      "overflow_x": null,
      "overflow_y": null,
      "padding": null,
      "right": null,
      "top": null,
      "visibility": null,
      "width": null
     }
    },
    "883563031f904e81b0ccf7ebc20d912a": {
     "model_module": "@jupyter-widgets/base",
     "model_module_version": "1.2.0",
     "model_name": "LayoutModel",
     "state": {
      "_model_module": "@jupyter-widgets/base",
      "_model_module_version": "1.2.0",
      "_model_name": "LayoutModel",
      "_view_count": null,
      "_view_module": "@jupyter-widgets/base",
      "_view_module_version": "1.2.0",
      "_view_name": "LayoutView",
      "align_content": null,
      "align_items": null,
      "align_self": null,
      "border": null,
      "bottom": null,
      "display": null,
      "flex": null,
      "flex_flow": null,
      "grid_area": null,
      "grid_auto_columns": null,
      "grid_auto_flow": null,
      "grid_auto_rows": null,
      "grid_column": null,
      "grid_gap": null,
      "grid_row": null,
      "grid_template_areas": null,
      "grid_template_columns": null,
      "grid_template_rows": null,
      "height": null,
      "justify_content": null,
      "justify_items": null,
      "left": null,
      "margin": null,
      "max_height": null,
      "max_width": null,
      "min_height": null,
      "min_width": null,
      "object_fit": null,
      "object_position": null,
      "order": null,
      "overflow": null,
      "overflow_x": null,
      "overflow_y": null,
      "padding": null,
      "right": null,
      "top": null,
      "visibility": null,
      "width": null
     }
    },
    "8b59a1c8120d400285775ab9c7bf5fd0": {
     "model_module": "@jupyter-widgets/controls",
     "model_module_version": "1.5.0",
     "model_name": "HTMLModel",
     "state": {
      "_dom_classes": [],
      "_model_module": "@jupyter-widgets/controls",
      "_model_module_version": "1.5.0",
      "_model_name": "HTMLModel",
      "_view_count": null,
      "_view_module": "@jupyter-widgets/controls",
      "_view_module_version": "1.5.0",
      "_view_name": "HTMLView",
      "description": "",
      "description_tooltip": null,
      "layout": "IPY_MODEL_76ecfa0377a9483db59cf4f3f8210f77",
      "placeholder": "​",
      "style": "IPY_MODEL_49c2b1ce77694e378d0fdb66b1c56404",
      "value": " 226k/226k [00:00&lt;00:00, 731kB/s]"
     }
    },
    "8d4e5e118a55491a919f21304ca2d551": {
     "model_module": "@jupyter-widgets/base",
     "model_module_version": "1.2.0",
     "model_name": "LayoutModel",
     "state": {
      "_model_module": "@jupyter-widgets/base",
      "_model_module_version": "1.2.0",
      "_model_name": "LayoutModel",
      "_view_count": null,
      "_view_module": "@jupyter-widgets/base",
      "_view_module_version": "1.2.0",
      "_view_name": "LayoutView",
      "align_content": null,
      "align_items": null,
      "align_self": null,
      "border": null,
      "bottom": null,
      "display": null,
      "flex": null,
      "flex_flow": null,
      "grid_area": null,
      "grid_auto_columns": null,
      "grid_auto_flow": null,
      "grid_auto_rows": null,
      "grid_column": null,
      "grid_gap": null,
      "grid_row": null,
      "grid_template_areas": null,
      "grid_template_columns": null,
      "grid_template_rows": null,
      "height": null,
      "justify_content": null,
      "justify_items": null,
      "left": null,
      "margin": null,
      "max_height": null,
      "max_width": null,
      "min_height": null,
      "min_width": null,
      "object_fit": null,
      "object_position": null,
      "order": null,
      "overflow": null,
      "overflow_x": null,
      "overflow_y": null,
      "padding": null,
      "right": null,
      "top": null,
      "visibility": null,
      "width": null
     }
    },
    "926d83822645446885e7c9a9f5278674": {
     "model_module": "@jupyter-widgets/controls",
     "model_module_version": "1.5.0",
     "model_name": "DescriptionStyleModel",
     "state": {
      "_model_module": "@jupyter-widgets/controls",
      "_model_module_version": "1.5.0",
      "_model_name": "DescriptionStyleModel",
      "_view_count": null,
      "_view_module": "@jupyter-widgets/base",
      "_view_module_version": "1.2.0",
      "_view_name": "StyleView",
      "description_width": ""
     }
    },
    "97335ef817574cd58a87168b62763437": {
     "model_module": "@jupyter-widgets/controls",
     "model_module_version": "1.5.0",
     "model_name": "HTMLModel",
     "state": {
      "_dom_classes": [],
      "_model_module": "@jupyter-widgets/controls",
      "_model_module_version": "1.5.0",
      "_model_name": "HTMLModel",
      "_view_count": null,
      "_view_module": "@jupyter-widgets/controls",
      "_view_module_version": "1.5.0",
      "_view_name": "HTMLView",
      "description": "",
      "description_tooltip": null,
      "layout": "IPY_MODEL_11294eb27f9a44599f1943202d83d956",
      "placeholder": "​",
      "style": "IPY_MODEL_c33f0c0889024dabb79f1cf4c5855fff",
      "value": " 483/483 [00:00&lt;00:00, 11.1kB/s]"
     }
    },
    "9cf4df1b32a641118d1ec674040af9b6": {
     "model_module": "@jupyter-widgets/base",
     "model_module_version": "1.2.0",
     "model_name": "LayoutModel",
     "state": {
      "_model_module": "@jupyter-widgets/base",
      "_model_module_version": "1.2.0",
      "_model_name": "LayoutModel",
      "_view_count": null,
      "_view_module": "@jupyter-widgets/base",
      "_view_module_version": "1.2.0",
      "_view_name": "LayoutView",
      "align_content": null,
      "align_items": null,
      "align_self": null,
      "border": null,
      "bottom": null,
      "display": null,
      "flex": null,
      "flex_flow": null,
      "grid_area": null,
      "grid_auto_columns": null,
      "grid_auto_flow": null,
      "grid_auto_rows": null,
      "grid_column": null,
      "grid_gap": null,
      "grid_row": null,
      "grid_template_areas": null,
      "grid_template_columns": null,
      "grid_template_rows": null,
      "height": null,
      "justify_content": null,
      "justify_items": null,
      "left": null,
      "margin": null,
      "max_height": null,
      "max_width": null,
      "min_height": null,
      "min_width": null,
      "object_fit": null,
      "object_position": null,
      "order": null,
      "overflow": null,
      "overflow_x": null,
      "overflow_y": null,
      "padding": null,
      "right": null,
      "top": null,
      "visibility": null,
      "width": null
     }
    },
    "a356d74e3e1e46d08524c177fdab0c42": {
     "model_module": "@jupyter-widgets/controls",
     "model_module_version": "1.5.0",
     "model_name": "ProgressStyleModel",
     "state": {
      "_model_module": "@jupyter-widgets/controls",
      "_model_module_version": "1.5.0",
      "_model_name": "ProgressStyleModel",
      "_view_count": null,
      "_view_module": "@jupyter-widgets/base",
      "_view_module_version": "1.2.0",
      "_view_name": "StyleView",
      "bar_color": null,
      "description_width": ""
     }
    },
    "a36dc39df13c4fb6b06210e9f7d4e5cb": {
     "model_module": "@jupyter-widgets/base",
     "model_module_version": "1.2.0",
     "model_name": "LayoutModel",
     "state": {
      "_model_module": "@jupyter-widgets/base",
      "_model_module_version": "1.2.0",
      "_model_name": "LayoutModel",
      "_view_count": null,
      "_view_module": "@jupyter-widgets/base",
      "_view_module_version": "1.2.0",
      "_view_name": "LayoutView",
      "align_content": null,
      "align_items": null,
      "align_self": null,
      "border": null,
      "bottom": null,
      "display": null,
      "flex": null,
      "flex_flow": null,
      "grid_area": null,
      "grid_auto_columns": null,
      "grid_auto_flow": null,
      "grid_auto_rows": null,
      "grid_column": null,
      "grid_gap": null,
      "grid_row": null,
      "grid_template_areas": null,
      "grid_template_columns": null,
      "grid_template_rows": null,
      "height": null,
      "justify_content": null,
      "justify_items": null,
      "left": null,
      "margin": null,
      "max_height": null,
      "max_width": null,
      "min_height": null,
      "min_width": null,
      "object_fit": null,
      "object_position": null,
      "order": null,
      "overflow": null,
      "overflow_x": null,
      "overflow_y": null,
      "padding": null,
      "right": null,
      "top": null,
      "visibility": null,
      "width": null
     }
    },
    "a4d30ceda14f47d6a3c05f9be708a3b9": {
     "model_module": "@jupyter-widgets/controls",
     "model_module_version": "1.5.0",
     "model_name": "DescriptionStyleModel",
     "state": {
      "_model_module": "@jupyter-widgets/controls",
      "_model_module_version": "1.5.0",
      "_model_name": "DescriptionStyleModel",
      "_view_count": null,
      "_view_module": "@jupyter-widgets/base",
      "_view_module_version": "1.2.0",
      "_view_name": "StyleView",
      "description_width": ""
     }
    },
    "ab35a23f71ec4614a8d08ff9e97af4fd": {
     "model_module": "@jupyter-widgets/controls",
     "model_module_version": "1.5.0",
     "model_name": "ProgressStyleModel",
     "state": {
      "_model_module": "@jupyter-widgets/controls",
      "_model_module_version": "1.5.0",
      "_model_name": "ProgressStyleModel",
      "_view_count": null,
      "_view_module": "@jupyter-widgets/base",
      "_view_module_version": "1.2.0",
      "_view_name": "StyleView",
      "bar_color": null,
      "description_width": ""
     }
    },
    "ad1dc10ec89e4e4fb92c87e1d900ba98": {
     "model_module": "@jupyter-widgets/base",
     "model_module_version": "1.2.0",
     "model_name": "LayoutModel",
     "state": {
      "_model_module": "@jupyter-widgets/base",
      "_model_module_version": "1.2.0",
      "_model_name": "LayoutModel",
      "_view_count": null,
      "_view_module": "@jupyter-widgets/base",
      "_view_module_version": "1.2.0",
      "_view_name": "LayoutView",
      "align_content": null,
      "align_items": null,
      "align_self": null,
      "border": null,
      "bottom": null,
      "display": null,
      "flex": null,
      "flex_flow": null,
      "grid_area": null,
      "grid_auto_columns": null,
      "grid_auto_flow": null,
      "grid_auto_rows": null,
      "grid_column": null,
      "grid_gap": null,
      "grid_row": null,
      "grid_template_areas": null,
      "grid_template_columns": null,
      "grid_template_rows": null,
      "height": null,
      "justify_content": null,
      "justify_items": null,
      "left": null,
      "margin": null,
      "max_height": null,
      "max_width": null,
      "min_height": null,
      "min_width": null,
      "object_fit": null,
      "object_position": null,
      "order": null,
      "overflow": null,
      "overflow_x": null,
      "overflow_y": null,
      "padding": null,
      "right": null,
      "top": null,
      "visibility": null,
      "width": null
     }
    },
    "b3fb0b54a4c749789f8778c797de2a74": {
     "model_module": "@jupyter-widgets/base",
     "model_module_version": "1.2.0",
     "model_name": "LayoutModel",
     "state": {
      "_model_module": "@jupyter-widgets/base",
      "_model_module_version": "1.2.0",
      "_model_name": "LayoutModel",
      "_view_count": null,
      "_view_module": "@jupyter-widgets/base",
      "_view_module_version": "1.2.0",
      "_view_name": "LayoutView",
      "align_content": null,
      "align_items": null,
      "align_self": null,
      "border": null,
      "bottom": null,
      "display": null,
      "flex": null,
      "flex_flow": null,
      "grid_area": null,
      "grid_auto_columns": null,
      "grid_auto_flow": null,
      "grid_auto_rows": null,
      "grid_column": null,
      "grid_gap": null,
      "grid_row": null,
      "grid_template_areas": null,
      "grid_template_columns": null,
      "grid_template_rows": null,
      "height": null,
      "justify_content": null,
      "justify_items": null,
      "left": null,
      "margin": null,
      "max_height": null,
      "max_width": null,
      "min_height": null,
      "min_width": null,
      "object_fit": null,
      "object_position": null,
      "order": null,
      "overflow": null,
      "overflow_x": null,
      "overflow_y": null,
      "padding": null,
      "right": null,
      "top": null,
      "visibility": null,
      "width": null
     }
    },
    "bb83648a87c3446c92bb5052ef6847f1": {
     "model_module": "@jupyter-widgets/controls",
     "model_module_version": "1.5.0",
     "model_name": "DescriptionStyleModel",
     "state": {
      "_model_module": "@jupyter-widgets/controls",
      "_model_module_version": "1.5.0",
      "_model_name": "DescriptionStyleModel",
      "_view_count": null,
      "_view_module": "@jupyter-widgets/base",
      "_view_module_version": "1.2.0",
      "_view_name": "StyleView",
      "description_width": ""
     }
    },
    "bcfe3b9cc0a84a71a23fe066e9f91f50": {
     "model_module": "@jupyter-widgets/controls",
     "model_module_version": "1.5.0",
     "model_name": "DescriptionStyleModel",
     "state": {
      "_model_module": "@jupyter-widgets/controls",
      "_model_module_version": "1.5.0",
      "_model_name": "DescriptionStyleModel",
      "_view_count": null,
      "_view_module": "@jupyter-widgets/base",
      "_view_module_version": "1.2.0",
      "_view_name": "StyleView",
      "description_width": ""
     }
    },
    "bd923a63531e47f7b256ed4408780ef9": {
     "model_module": "@jupyter-widgets/base",
     "model_module_version": "1.2.0",
     "model_name": "LayoutModel",
     "state": {
      "_model_module": "@jupyter-widgets/base",
      "_model_module_version": "1.2.0",
      "_model_name": "LayoutModel",
      "_view_count": null,
      "_view_module": "@jupyter-widgets/base",
      "_view_module_version": "1.2.0",
      "_view_name": "LayoutView",
      "align_content": null,
      "align_items": null,
      "align_self": null,
      "border": null,
      "bottom": null,
      "display": null,
      "flex": null,
      "flex_flow": null,
      "grid_area": null,
      "grid_auto_columns": null,
      "grid_auto_flow": null,
      "grid_auto_rows": null,
      "grid_column": null,
      "grid_gap": null,
      "grid_row": null,
      "grid_template_areas": null,
      "grid_template_columns": null,
      "grid_template_rows": null,
      "height": null,
      "justify_content": null,
      "justify_items": null,
      "left": null,
      "margin": null,
      "max_height": null,
      "max_width": null,
      "min_height": null,
      "min_width": null,
      "object_fit": null,
      "object_position": null,
      "order": null,
      "overflow": null,
      "overflow_x": null,
      "overflow_y": null,
      "padding": null,
      "right": null,
      "top": null,
      "visibility": null,
      "width": null
     }
    },
    "bfa45769c90c4e50829b7bba9c673531": {
     "model_module": "@jupyter-widgets/controls",
     "model_module_version": "1.5.0",
     "model_name": "HTMLModel",
     "state": {
      "_dom_classes": [],
      "_model_module": "@jupyter-widgets/controls",
      "_model_module_version": "1.5.0",
      "_model_name": "HTMLModel",
      "_view_count": null,
      "_view_module": "@jupyter-widgets/controls",
      "_view_module_version": "1.5.0",
      "_view_name": "HTMLView",
      "description": "",
      "description_tooltip": null,
      "layout": "IPY_MODEL_255c8c0083c040a188e98fea8afed4e0",
      "placeholder": "​",
      "style": "IPY_MODEL_5359a706b7d04c81b9919471f7f4e275",
      "value": "100%"
     }
    },
    "c33f0c0889024dabb79f1cf4c5855fff": {
     "model_module": "@jupyter-widgets/controls",
     "model_module_version": "1.5.0",
     "model_name": "DescriptionStyleModel",
     "state": {
      "_model_module": "@jupyter-widgets/controls",
      "_model_module_version": "1.5.0",
      "_model_name": "DescriptionStyleModel",
      "_view_count": null,
      "_view_module": "@jupyter-widgets/base",
      "_view_module_version": "1.2.0",
      "_view_name": "StyleView",
      "description_width": ""
     }
    },
    "c997c00148b642388a7dfc5d4cea405a": {
     "model_module": "@jupyter-widgets/controls",
     "model_module_version": "1.5.0",
     "model_name": "HTMLModel",
     "state": {
      "_dom_classes": [],
      "_model_module": "@jupyter-widgets/controls",
      "_model_module_version": "1.5.0",
      "_model_name": "HTMLModel",
      "_view_count": null,
      "_view_module": "@jupyter-widgets/controls",
      "_view_module_version": "1.5.0",
      "_view_name": "HTMLView",
      "description": "",
      "description_tooltip": null,
      "layout": "IPY_MODEL_7e4105fcbc1148dba4cfe534c7a8e075",
      "placeholder": "​",
      "style": "IPY_MODEL_926d83822645446885e7c9a9f5278674",
      "value": " 28.0/28.0 [00:00&lt;00:00, 402B/s]"
     }
    },
    "cd184a49854a492db0f7338ddf1f25e5": {
     "model_module": "@jupyter-widgets/controls",
     "model_module_version": "1.5.0",
     "model_name": "FloatProgressModel",
     "state": {
      "_dom_classes": [],
      "_model_module": "@jupyter-widgets/controls",
      "_model_module_version": "1.5.0",
      "_model_name": "FloatProgressModel",
      "_view_count": null,
      "_view_module": "@jupyter-widgets/controls",
      "_view_module_version": "1.5.0",
      "_view_name": "ProgressView",
      "bar_style": "success",
      "description": "",
      "description_tooltip": null,
      "layout": "IPY_MODEL_b3fb0b54a4c749789f8778c797de2a74",
      "max": 466062,
      "min": 0,
      "orientation": "horizontal",
      "style": "IPY_MODEL_09d6a6951d0647dcb714bc95d13c7036",
      "value": 466062
     }
    },
    "d456c732a7934f4780a4e26adebe5d82": {
     "model_module": "@jupyter-widgets/base",
     "model_module_version": "1.2.0",
     "model_name": "LayoutModel",
     "state": {
      "_model_module": "@jupyter-widgets/base",
      "_model_module_version": "1.2.0",
      "_model_name": "LayoutModel",
      "_view_count": null,
      "_view_module": "@jupyter-widgets/base",
      "_view_module_version": "1.2.0",
      "_view_name": "LayoutView",
      "align_content": null,
      "align_items": null,
      "align_self": null,
      "border": null,
      "bottom": null,
      "display": null,
      "flex": null,
      "flex_flow": null,
      "grid_area": null,
      "grid_auto_columns": null,
      "grid_auto_flow": null,
      "grid_auto_rows": null,
      "grid_column": null,
      "grid_gap": null,
      "grid_row": null,
      "grid_template_areas": null,
      "grid_template_columns": null,
      "grid_template_rows": null,
      "height": null,
      "justify_content": null,
      "justify_items": null,
      "left": null,
      "margin": null,
      "max_height": null,
      "max_width": null,
      "min_height": null,
      "min_width": null,
      "object_fit": null,
      "object_position": null,
      "order": null,
      "overflow": null,
      "overflow_x": null,
      "overflow_y": null,
      "padding": null,
      "right": null,
      "top": null,
      "visibility": null,
      "width": null
     }
    },
    "d67011f140984c90bcb2e5897e9cfec7": {
     "model_module": "@jupyter-widgets/base",
     "model_module_version": "1.2.0",
     "model_name": "LayoutModel",
     "state": {
      "_model_module": "@jupyter-widgets/base",
      "_model_module_version": "1.2.0",
      "_model_name": "LayoutModel",
      "_view_count": null,
      "_view_module": "@jupyter-widgets/base",
      "_view_module_version": "1.2.0",
      "_view_name": "LayoutView",
      "align_content": null,
      "align_items": null,
      "align_self": null,
      "border": null,
      "bottom": null,
      "display": null,
      "flex": null,
      "flex_flow": null,
      "grid_area": null,
      "grid_auto_columns": null,
      "grid_auto_flow": null,
      "grid_auto_rows": null,
      "grid_column": null,
      "grid_gap": null,
      "grid_row": null,
      "grid_template_areas": null,
      "grid_template_columns": null,
      "grid_template_rows": null,
      "height": null,
      "justify_content": null,
      "justify_items": null,
      "left": null,
      "margin": null,
      "max_height": null,
      "max_width": null,
      "min_height": null,
      "min_width": null,
      "object_fit": null,
      "object_position": null,
      "order": null,
      "overflow": null,
      "overflow_x": null,
      "overflow_y": null,
      "padding": null,
      "right": null,
      "top": null,
      "visibility": null,
      "width": null
     }
    },
    "d7b9dd68692d45e79ebb462eb1e52ed2": {
     "model_module": "@jupyter-widgets/controls",
     "model_module_version": "1.5.0",
     "model_name": "HBoxModel",
     "state": {
      "_dom_classes": [],
      "_model_module": "@jupyter-widgets/controls",
      "_model_module_version": "1.5.0",
      "_model_name": "HBoxModel",
      "_view_count": null,
      "_view_module": "@jupyter-widgets/controls",
      "_view_module_version": "1.5.0",
      "_view_name": "HBoxView",
      "box_style": "",
      "children": [
       "IPY_MODEL_e4129340688f43b29db0a0378544a7f9",
       "IPY_MODEL_ebe54699564d4587ab8d74857d4e8872",
       "IPY_MODEL_97335ef817574cd58a87168b62763437"
      ],
      "layout": "IPY_MODEL_56946bff74cc485797ed6b3498203651"
     }
    },
    "df715fedf06d47b89a781ab143c31366": {
     "model_module": "@jupyter-widgets/controls",
     "model_module_version": "1.5.0",
     "model_name": "HBoxModel",
     "state": {
      "_dom_classes": [],
      "_model_module": "@jupyter-widgets/controls",
      "_model_module_version": "1.5.0",
      "_model_name": "HBoxModel",
      "_view_count": null,
      "_view_module": "@jupyter-widgets/controls",
      "_view_module_version": "1.5.0",
      "_view_name": "HBoxView",
      "box_style": "",
      "children": [
       "IPY_MODEL_480f7683750f4c8da678a997d1b6fce0",
       "IPY_MODEL_cd184a49854a492db0f7338ddf1f25e5",
       "IPY_MODEL_1093cda242734ed68f90ef8113ed2382"
      ],
      "layout": "IPY_MODEL_34e07de58f3a4b7ea2224d8a496e869e"
     }
    },
    "e4129340688f43b29db0a0378544a7f9": {
     "model_module": "@jupyter-widgets/controls",
     "model_module_version": "1.5.0",
     "model_name": "HTMLModel",
     "state": {
      "_dom_classes": [],
      "_model_module": "@jupyter-widgets/controls",
      "_model_module_version": "1.5.0",
      "_model_name": "HTMLModel",
      "_view_count": null,
      "_view_module": "@jupyter-widgets/controls",
      "_view_module_version": "1.5.0",
      "_view_name": "HTMLView",
      "description": "",
      "description_tooltip": null,
      "layout": "IPY_MODEL_bd923a63531e47f7b256ed4408780ef9",
      "placeholder": "​",
      "style": "IPY_MODEL_e704839651a943a395100bb5da14759c",
      "value": "Downloading: 100%"
     }
    },
    "e6a9d50369b743e6ab9095e7cb09ba85": {
     "model_module": "@jupyter-widgets/controls",
     "model_module_version": "1.5.0",
     "model_name": "HBoxModel",
     "state": {
      "_dom_classes": [],
      "_model_module": "@jupyter-widgets/controls",
      "_model_module_version": "1.5.0",
      "_model_name": "HBoxModel",
      "_view_count": null,
      "_view_module": "@jupyter-widgets/controls",
      "_view_module_version": "1.5.0",
      "_view_name": "HBoxView",
      "box_style": "",
      "children": [
       "IPY_MODEL_71467b9c601b42caa956b933644df950",
       "IPY_MODEL_73db3abf8a5c4a14bb9e3c857b0cd73a",
       "IPY_MODEL_4ff872907c104e5da154a1980ebee4a8"
      ],
      "layout": "IPY_MODEL_37039050ba0d48498777046a7b5098bc"
     }
    },
    "e704839651a943a395100bb5da14759c": {
     "model_module": "@jupyter-widgets/controls",
     "model_module_version": "1.5.0",
     "model_name": "DescriptionStyleModel",
     "state": {
      "_model_module": "@jupyter-widgets/controls",
      "_model_module_version": "1.5.0",
      "_model_name": "DescriptionStyleModel",
      "_view_count": null,
      "_view_module": "@jupyter-widgets/base",
      "_view_module_version": "1.2.0",
      "_view_name": "StyleView",
      "description_width": ""
     }
    },
    "e83112deff534d02b02dab80d89f4c13": {
     "model_module": "@jupyter-widgets/controls",
     "model_module_version": "1.5.0",
     "model_name": "FloatProgressModel",
     "state": {
      "_dom_classes": [],
      "_model_module": "@jupyter-widgets/controls",
      "_model_module_version": "1.5.0",
      "_model_name": "FloatProgressModel",
      "_view_count": null,
      "_view_module": "@jupyter-widgets/controls",
      "_view_module_version": "1.5.0",
      "_view_name": "ProgressView",
      "bar_style": "success",
      "description": "",
      "description_tooltip": null,
      "layout": "IPY_MODEL_f4e89f31eee747959dfb78c50fcc3f4b",
      "max": 231508,
      "min": 0,
      "orientation": "horizontal",
      "style": "IPY_MODEL_ab35a23f71ec4614a8d08ff9e97af4fd",
      "value": 231508
     }
    },
    "ebe54699564d4587ab8d74857d4e8872": {
     "model_module": "@jupyter-widgets/controls",
     "model_module_version": "1.5.0",
     "model_name": "FloatProgressModel",
     "state": {
      "_dom_classes": [],
      "_model_module": "@jupyter-widgets/controls",
      "_model_module_version": "1.5.0",
      "_model_name": "FloatProgressModel",
      "_view_count": null,
      "_view_module": "@jupyter-widgets/controls",
      "_view_module_version": "1.5.0",
      "_view_name": "ProgressView",
      "bar_style": "success",
      "description": "",
      "description_tooltip": null,
      "layout": "IPY_MODEL_6749900841aa464ebcf3f3d56a24e4f0",
      "max": 483,
      "min": 0,
      "orientation": "horizontal",
      "style": "IPY_MODEL_1582c4067b56485b9366b146d357f5e4",
      "value": 483
     }
    },
    "ecf624390bc24aed86e39d326dd2ac3f": {
     "model_module": "@jupyter-widgets/controls",
     "model_module_version": "1.5.0",
     "model_name": "HBoxModel",
     "state": {
      "_dom_classes": [],
      "_model_module": "@jupyter-widgets/controls",
      "_model_module_version": "1.5.0",
      "_model_name": "HBoxModel",
      "_view_count": null,
      "_view_module": "@jupyter-widgets/controls",
      "_view_module_version": "1.5.0",
      "_view_name": "HBoxView",
      "box_style": "",
      "children": [
       "IPY_MODEL_5717f1f6da554c83863f1fd513c76dc0",
       "IPY_MODEL_1b2acc83686d4baf9768c19e68e08d31",
       "IPY_MODEL_c997c00148b642388a7dfc5d4cea405a"
      ],
      "layout": "IPY_MODEL_06622e52beb544b7a2b464d1de0902a1"
     }
    },
    "ef1169b0d36e4f37af27ddf2a3f2c69c": {
     "model_module": "@jupyter-widgets/base",
     "model_module_version": "1.2.0",
     "model_name": "LayoutModel",
     "state": {
      "_model_module": "@jupyter-widgets/base",
      "_model_module_version": "1.2.0",
      "_model_name": "LayoutModel",
      "_view_count": null,
      "_view_module": "@jupyter-widgets/base",
      "_view_module_version": "1.2.0",
      "_view_name": "LayoutView",
      "align_content": null,
      "align_items": null,
      "align_self": null,
      "border": null,
      "bottom": null,
      "display": null,
      "flex": null,
      "flex_flow": null,
      "grid_area": null,
      "grid_auto_columns": null,
      "grid_auto_flow": null,
      "grid_auto_rows": null,
      "grid_column": null,
      "grid_gap": null,
      "grid_row": null,
      "grid_template_areas": null,
      "grid_template_columns": null,
      "grid_template_rows": null,
      "height": null,
      "justify_content": null,
      "justify_items": null,
      "left": null,
      "margin": null,
      "max_height": null,
      "max_width": null,
      "min_height": null,
      "min_width": null,
      "object_fit": null,
      "object_position": null,
      "order": null,
      "overflow": null,
      "overflow_x": null,
      "overflow_y": null,
      "padding": null,
      "right": null,
      "top": null,
      "visibility": null,
      "width": null
     }
    },
    "ef35c644d0824d529a22bed78aac1ab6": {
     "model_module": "@jupyter-widgets/base",
     "model_module_version": "1.2.0",
     "model_name": "LayoutModel",
     "state": {
      "_model_module": "@jupyter-widgets/base",
      "_model_module_version": "1.2.0",
      "_model_name": "LayoutModel",
      "_view_count": null,
      "_view_module": "@jupyter-widgets/base",
      "_view_module_version": "1.2.0",
      "_view_name": "LayoutView",
      "align_content": null,
      "align_items": null,
      "align_self": null,
      "border": null,
      "bottom": null,
      "display": null,
      "flex": null,
      "flex_flow": null,
      "grid_area": null,
      "grid_auto_columns": null,
      "grid_auto_flow": null,
      "grid_auto_rows": null,
      "grid_column": null,
      "grid_gap": null,
      "grid_row": null,
      "grid_template_areas": null,
      "grid_template_columns": null,
      "grid_template_rows": null,
      "height": null,
      "justify_content": null,
      "justify_items": null,
      "left": null,
      "margin": null,
      "max_height": null,
      "max_width": null,
      "min_height": null,
      "min_width": null,
      "object_fit": null,
      "object_position": null,
      "order": null,
      "overflow": null,
      "overflow_x": null,
      "overflow_y": null,
      "padding": null,
      "right": null,
      "top": null,
      "visibility": null,
      "width": null
     }
    },
    "f4e89f31eee747959dfb78c50fcc3f4b": {
     "model_module": "@jupyter-widgets/base",
     "model_module_version": "1.2.0",
     "model_name": "LayoutModel",
     "state": {
      "_model_module": "@jupyter-widgets/base",
      "_model_module_version": "1.2.0",
      "_model_name": "LayoutModel",
      "_view_count": null,
      "_view_module": "@jupyter-widgets/base",
      "_view_module_version": "1.2.0",
      "_view_name": "LayoutView",
      "align_content": null,
      "align_items": null,
      "align_self": null,
      "border": null,
      "bottom": null,
      "display": null,
      "flex": null,
      "flex_flow": null,
      "grid_area": null,
      "grid_auto_columns": null,
      "grid_auto_flow": null,
      "grid_auto_rows": null,
      "grid_column": null,
      "grid_gap": null,
      "grid_row": null,
      "grid_template_areas": null,
      "grid_template_columns": null,
      "grid_template_rows": null,
      "height": null,
      "justify_content": null,
      "justify_items": null,
      "left": null,
      "margin": null,
      "max_height": null,
      "max_width": null,
      "min_height": null,
      "min_width": null,
      "object_fit": null,
      "object_position": null,
      "order": null,
      "overflow": null,
      "overflow_x": null,
      "overflow_y": null,
      "padding": null,
      "right": null,
      "top": null,
      "visibility": null,
      "width": null
     }
    },
    "ff63f13c42194f70ba8c6e04d907b11b": {
     "model_module": "@jupyter-widgets/controls",
     "model_module_version": "1.5.0",
     "model_name": "ProgressStyleModel",
     "state": {
      "_model_module": "@jupyter-widgets/controls",
      "_model_module_version": "1.5.0",
      "_model_name": "ProgressStyleModel",
      "_view_count": null,
      "_view_module": "@jupyter-widgets/base",
      "_view_module_version": "1.2.0",
      "_view_name": "StyleView",
      "bar_color": null,
      "description_width": ""
     }
    }
   }
  }
 },
 "nbformat": 4,
 "nbformat_minor": 1
}
