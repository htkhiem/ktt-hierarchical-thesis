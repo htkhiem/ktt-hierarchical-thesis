{
 "cells": [
  {
   "cell_type": "markdown",
   "metadata": {
    "id": "ofs0WXAE1cH9"
   },
   "source": [
    "This notebook cleans the raw DBPedia datasets. It outputs three Parquets: `DBPedia_train.parquet`, `DBPedia_val.parquet`, and `DBPedia_test.parquet`."
   ]
  },
  {
   "cell_type": "code",
   "execution_count": 3,
   "metadata": {
    "id": "md0sUr7jTuh-"
   },
   "outputs": [],
   "source": [
    "import dask.dataframe as dd\n",
    "\n",
    "raw_train = dd.read_csv('./raw/DBPedia/DBPEDIA_train.csv', blocksize=256e6)\n",
    "raw_val = dd.read_csv('./raw/DBPedia/DBPEDIA_val.csv', blocksize=256e6)\n",
    "raw_test = dd.read_csv('./raw/DBPedia/DBPEDIA_test.csv', blocksize=256e6)"
   ]
  },
  {
   "cell_type": "markdown",
   "metadata": {
    "id": "Rf-j_ptpX0-J"
   },
   "source": [
    "Here we can get a glimpse of our data:"
   ]
  },
  {
   "cell_type": "code",
   "execution_count": 7,
   "metadata": {
    "colab": {
     "base_uri": "https://localhost:8080/"
    },
    "executionInfo": {
     "elapsed": 40,
     "status": "ok",
     "timestamp": 1636972387399,
     "user": {
      "displayName": "Khiêm Huỳnh Thiện",
      "photoUrl": "https://lh3.googleusercontent.com/a-/AOh14GiKsMYrfMtAzOaIk6G51GUQwDS0P6dMkGSwN9B_aA=s64",
      "userId": "01825679077701569078"
     },
     "user_tz": -420
    },
    "id": "AELr4N-IWA7u",
    "outputId": "37fb612c-55f6-4100-d997-35319b819c02"
   },
   "outputs": [
    {
     "data": {
      "text/html": [
       "<div>\n",
       "<style scoped>\n",
       "    .dataframe tbody tr th:only-of-type {\n",
       "        vertical-align: middle;\n",
       "    }\n",
       "\n",
       "    .dataframe tbody tr th {\n",
       "        vertical-align: top;\n",
       "    }\n",
       "\n",
       "    .dataframe thead th {\n",
       "        text-align: right;\n",
       "    }\n",
       "</style>\n",
       "<table border=\"1\" class=\"dataframe\">\n",
       "  <thead>\n",
       "    <tr style=\"text-align: right;\">\n",
       "      <th></th>\n",
       "      <th>text</th>\n",
       "      <th>l1</th>\n",
       "      <th>l2</th>\n",
       "      <th>l3</th>\n",
       "    </tr>\n",
       "  </thead>\n",
       "  <tbody>\n",
       "    <tr>\n",
       "      <th>0</th>\n",
       "      <td>William Alexander Massey (October 7, 1856 – Ma...</td>\n",
       "      <td>Agent</td>\n",
       "      <td>Politician</td>\n",
       "      <td>Senator</td>\n",
       "    </tr>\n",
       "    <tr>\n",
       "      <th>1</th>\n",
       "      <td>Lions is the sixth studio album by American ro...</td>\n",
       "      <td>Work</td>\n",
       "      <td>MusicalWork</td>\n",
       "      <td>Album</td>\n",
       "    </tr>\n",
       "    <tr>\n",
       "      <th>2</th>\n",
       "      <td>Pirqa (Aymara and Quechua for wall, hispaniciz...</td>\n",
       "      <td>Place</td>\n",
       "      <td>NaturalPlace</td>\n",
       "      <td>Mountain</td>\n",
       "    </tr>\n",
       "    <tr>\n",
       "      <th>3</th>\n",
       "      <td>Cancer Prevention Research is a biweekly peer-...</td>\n",
       "      <td>Work</td>\n",
       "      <td>PeriodicalLiterature</td>\n",
       "      <td>AcademicJournal</td>\n",
       "    </tr>\n",
       "    <tr>\n",
       "      <th>4</th>\n",
       "      <td>The Princeton University Chapel is located on ...</td>\n",
       "      <td>Place</td>\n",
       "      <td>Building</td>\n",
       "      <td>HistoricBuilding</td>\n",
       "    </tr>\n",
       "    <tr>\n",
       "      <th>5</th>\n",
       "      <td>Sistrurus catenatus edwardsii is a subspecies ...</td>\n",
       "      <td>Species</td>\n",
       "      <td>Animal</td>\n",
       "      <td>Reptile</td>\n",
       "    </tr>\n",
       "    <tr>\n",
       "      <th>6</th>\n",
       "      <td>The 1st Battalion, 68th Armor Regiment (1–68 A...</td>\n",
       "      <td>Agent</td>\n",
       "      <td>Organisation</td>\n",
       "      <td>MilitaryUnit</td>\n",
       "    </tr>\n",
       "    <tr>\n",
       "      <th>7</th>\n",
       "      <td>John Warren Davis (commonly known as J. Warren...</td>\n",
       "      <td>Agent</td>\n",
       "      <td>Person</td>\n",
       "      <td>Judge</td>\n",
       "    </tr>\n",
       "    <tr>\n",
       "      <th>8</th>\n",
       "      <td>Alfrēds Hartmanis (November 1, 1881, Riga, Lat...</td>\n",
       "      <td>Agent</td>\n",
       "      <td>Athlete</td>\n",
       "      <td>ChessPlayer</td>\n",
       "    </tr>\n",
       "    <tr>\n",
       "      <th>9</th>\n",
       "      <td>The International Association of Plumbing and ...</td>\n",
       "      <td>Agent</td>\n",
       "      <td>Organisation</td>\n",
       "      <td>TradeUnion</td>\n",
       "    </tr>\n",
       "  </tbody>\n",
       "</table>\n",
       "</div>"
      ],
      "text/plain": [
       "                                                text       l1  \\\n",
       "0  William Alexander Massey (October 7, 1856 – Ma...    Agent   \n",
       "1  Lions is the sixth studio album by American ro...     Work   \n",
       "2  Pirqa (Aymara and Quechua for wall, hispaniciz...    Place   \n",
       "3  Cancer Prevention Research is a biweekly peer-...     Work   \n",
       "4  The Princeton University Chapel is located on ...    Place   \n",
       "5  Sistrurus catenatus edwardsii is a subspecies ...  Species   \n",
       "6  The 1st Battalion, 68th Armor Regiment (1–68 A...    Agent   \n",
       "7  John Warren Davis (commonly known as J. Warren...    Agent   \n",
       "8  Alfrēds Hartmanis (November 1, 1881, Riga, Lat...    Agent   \n",
       "9  The International Association of Plumbing and ...    Agent   \n",
       "\n",
       "                     l2                l3  \n",
       "0            Politician           Senator  \n",
       "1           MusicalWork             Album  \n",
       "2          NaturalPlace          Mountain  \n",
       "3  PeriodicalLiterature   AcademicJournal  \n",
       "4              Building  HistoricBuilding  \n",
       "5                Animal           Reptile  \n",
       "6          Organisation      MilitaryUnit  \n",
       "7                Person             Judge  \n",
       "8               Athlete       ChessPlayer  \n",
       "9          Organisation        TradeUnion  "
      ]
     },
     "execution_count": 7,
     "metadata": {},
     "output_type": "execute_result"
    }
   ],
   "source": [
    "raw_train.head(10)"
   ]
  },
  {
   "cell_type": "markdown",
   "metadata": {
    "id": "p1sAm4j_4Xn7"
   },
   "source": [
    "# Cleaning"
   ]
  },
  {
   "cell_type": "markdown",
   "metadata": {
    "id": "ALCkFMzHX6LY"
   },
   "source": [
    "These sets are already pretty clean. Our only work is to group those three columns (l1, l2, l3) into one `category` column of lists."
   ]
  },
  {
   "cell_type": "code",
   "execution_count": 11,
   "metadata": {
    "id": "cTVMqaEb5VKC"
   },
   "outputs": [],
   "source": [
    "def rewrite_categories(row):\n",
    "    return [row['l1'], row['l2'], row['l3']]"
   ]
  },
  {
   "cell_type": "markdown",
   "metadata": {
    "id": "6c3Rc7a2N05w"
   },
   "source": [
    "# Pipelining\n",
    "Now that we've tested our code on a few records, it's time to pipe our dataset over our processing functions, convert into a Dask dataframe, and export back to disk as an Apache Parquet.\n",
    "If all goes well we shouldn't have to worry about RAM usage, since everything is done via compute graphs."
   ]
  },
  {
   "cell_type": "code",
   "execution_count": 13,
   "metadata": {
    "colab": {
     "base_uri": "https://localhost:8080/"
    },
    "executionInfo": {
     "elapsed": 592625,
     "status": "ok",
     "timestamp": 1636973940398,
     "user": {
      "displayName": "Khiêm Huỳnh Thiện",
      "photoUrl": "https://lh3.googleusercontent.com/a-/AOh14GiKsMYrfMtAzOaIk6G51GUQwDS0P6dMkGSwN9B_aA=s64",
      "userId": "01825679077701569078"
     },
     "user_tz": -420
    },
    "id": "mS6YUM8Kh743",
    "outputId": "c79055b5-6c65-402d-c136-ad39b809fa3f"
   },
   "outputs": [
    {
     "data": {
      "text/plain": [
       "(None,)"
      ]
     },
     "execution_count": 13,
     "metadata": {},
     "output_type": "execute_result"
    }
   ],
   "source": [
    "raw_train['category'] = raw_train.apply(rewrite_categories, axis=1)\n",
    "raw_val['category'] = raw_val.apply(rewrite_categories, axis=1)\n",
    "raw_test['category'] = raw_test.apply(rewrite_categories, axis=1)\n",
    "\n",
    "\n",
    "raw_train = raw_train[['text', 'category']].repartition(partition_size='128MB')\n",
    "raw_val = raw_val[['text', 'category']].repartition(partition_size='128MB')\n",
    "raw_test = raw_test[['text', 'category']].repartition(partition_size='128MB')\n",
    "raw_train.to_parquet('../datasets/DBPedia/train.parquet')\n",
    "raw_val.to_parquet('../datasets/DBPedia/val.parquet')\n",
    "raw_test.to_parquet('../datasets/DBPedia/test.parquet')"
   ]
  }
 ],
 "metadata": {
  "colab": {
   "collapsed_sections": [],
   "name": "Amazon_Electronics_cleaning.ipynb",
   "provenance": []
  },
  "kernelspec": {
   "display_name": "Python 3 (ipykernel)",
   "language": "python",
   "name": "python3"
  },
  "language_info": {
   "codemirror_mode": {
    "name": "ipython",
    "version": 3
   },
   "file_extension": ".py",
   "mimetype": "text/x-python",
   "name": "python",
   "nbconvert_exporter": "python",
   "pygments_lexer": "ipython3",
   "version": "3.9.9"
  }
 },
 "nbformat": 4,
 "nbformat_minor": 1
}
